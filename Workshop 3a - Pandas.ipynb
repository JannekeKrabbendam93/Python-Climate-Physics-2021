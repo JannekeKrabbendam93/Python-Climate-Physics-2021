{
 "cells": [
  {
   "cell_type": "markdown",
   "metadata": {},
   "source": [
    "# Workshop 3: importing data"
   ]
  },
  {
   "cell_type": "markdown",
   "metadata": {},
   "source": [
    "Part of this tutorial is based on the user guides of pandas (https://pandas.pydata.org/docs/user_guide/index.html), netcdf4 (https://unidata.github.io/netcdf4-python/) and xarray (http://xarray.pydata.org/en/stable/user-guide/index.html). Also, part of this tutorial is based on the Python introduction from last year of André Jüling, created under the BSD 3-Clause License (https://github.com/AJueling/python_climate_physics).\n",
    "\n",
    "There are many different types of datafiles and there are a lot of Python tools available to deal with these data. Datacamp has provided a [cheatsheet](http://datacamp-community-prod.s3.amazonaws.com/72e88aa1-b4f2-4658-9d86-15becf8263df) with a nice overview of what package to use for what types of data. Most of the time, you will able to use the tools in NumPy, especially if you have .txt or .csv files. But in this tutorial, we will introduce you to new libraries that are really useful: [pandas](https://pandas.pydata.org/docs/user_guide/index.html), [NetCDF4](https://unidata.github.io/netcdf4-python/) and [xarray](http://xarray.pydata.org/en/stable/user-guide/index.html). \n",
    "\n",
    "- __Pandas__ = library for importing, processing and analysing tabular data, such as spreadsheets.\n",
    "- __NetCDF4__ =  lower level interface for working with netCDF and OpenDAP datasets, you can read and modify files on-disk.\n",
    "- __xarray__ = for multidimensional data processing. It builds on NetCDF4 and NumPy and has a lot of useful tools for dataprocessing. It is similar to Pandas, but then for NetCDF files.\n",
    "\n",
    "All of these libraries are open-source. You probably have noticed that this tutorial is leaning heavily towards NetCDF files. This was on purpose, as during the master, you will often come across these type of files as this is a very efficient way to store large datasets/model outputs!\n",
    "\n",
    "# a) Pandas\n",
    "\n",
    "The first part of the tutorial will focus on working with Pandas, the second part on NetCDF4 and xarray. First, let's import the package\n",
    "\n",
    "`import pandas as pd`\n",
    "\n",
    "You can check wether pandas is alreay installed on your pc with the command\n",
    "\n",
    "`conda list`\n",
    "\n",
    "This gives an overview of all the packages that are installed. If you don't have pandas yet, install it with\n",
    "\n",
    "`conda install pandas` or `pip install pandas` \n",
    "\n",
    "You can do this directly in the Notebook or in the terminal."
   ]
  },
  {
   "cell_type": "code",
   "execution_count": 1,
   "metadata": {},
   "outputs": [],
   "source": [
    "import pandas as pd\n",
    "import numpy as np\n",
    "from matplotlib import pyplot as plt\n",
    "%matplotlib inline"
   ]
  },
  {
   "cell_type": "markdown",
   "metadata": {},
   "source": [
    "## Pandas Data Structures: Series\n",
    "\n",
    "A __Series__ represents a one-dimensional, labelled array of data. This array can hold any type of data (integers, strings, floats, Python objects, ...). The label is called an __index__, this the main difference between a Series and NumPy array. We can access the data through this index.\n",
    "\n",
    "There are many ways to [create a Series](https://pandas.pydata.org/pandas-docs/stable/dsintro.html#series). We will just show a few.\n"
   ]
  },
  {
   "cell_type": "code",
   "execution_count": 2,
   "metadata": {},
   "outputs": [
    {
     "data": {
      "text/plain": [
       "Alice     30\n",
       "Bob       15\n",
       "Claire    22\n",
       "dtype: int64"
      ]
     },
     "execution_count": 2,
     "metadata": {},
     "output_type": "execute_result"
    }
   ],
   "source": [
    "names = ['Alice', 'Bob', 'Claire']\n",
    "values = [30, 15, 22]\n",
    "ages = pd.Series(values, index=names)\n",
    "ages"
   ]
  },
  {
   "cell_type": "markdown",
   "metadata": {},
   "source": [
    "So here, the names are the __index__. We can access the underlying index object if we need to:"
   ]
  },
  {
   "cell_type": "code",
   "execution_count": 3,
   "metadata": {},
   "outputs": [
    {
     "data": {
      "text/plain": [
       "Index(['Alice', 'Bob', 'Claire'], dtype='object')"
      ]
     },
     "execution_count": 3,
     "metadata": {},
     "output_type": "execute_result"
    }
   ],
   "source": [
    "ages.index"
   ]
  },
  {
   "cell_type": "markdown",
   "metadata": {},
   "source": [
    "Arithmetic operations and most NumPy function can be applied to Series.\n",
    "An important point is that the Series keep their index during such operations."
   ]
  },
  {
   "cell_type": "code",
   "execution_count": 4,
   "metadata": {},
   "outputs": [
    {
     "data": {
      "text/plain": [
       "Alice     0.003779\n",
       "Bob       0.012036\n",
       "Claire    0.006386\n",
       "dtype: float64"
      ]
     },
     "execution_count": 4,
     "metadata": {},
     "output_type": "execute_result"
    }
   ],
   "source": [
    "np.log(ages) / ages**2"
   ]
  },
  {
   "cell_type": "markdown",
   "metadata": {},
   "source": [
    "Series have built in plotting methods, such as line plots, bar plots, histograms and many more (see https://pandas.pydata.org/pandas-docs/stable/user_guide/visualization.html). In order to access these options, you need to import matplotlib (which we already did)."
   ]
  },
  {
   "cell_type": "code",
   "execution_count": 5,
   "metadata": {},
   "outputs": [
    {
     "data": {
      "text/plain": [
       "<matplotlib.axes._subplots.AxesSubplot at 0x7fc6c5f7cd68>"
      ]
     },
     "execution_count": 5,
     "metadata": {},
     "output_type": "execute_result"
    },
    {
     "data": {
      "image/png": "[encoded data removed]",
      "text/plain": [
       "<Figure size 432x288 with 1 Axes>"
      ]
     },
     "metadata": {
      "needs_background": "light"
     },
     "output_type": "display_data"
    }
   ],
   "source": [
    "ages.plot()"
   ]
  },
  {
   "cell_type": "code",
   "execution_count": 6,
   "metadata": {},
   "outputs": [
    {
     "data": {
      "text/plain": [
       "<matplotlib.axes._subplots.AxesSubplot at 0x7fc6c60689e8>"
      ]
     },
     "execution_count": 6,
     "metadata": {},
     "output_type": "execute_result"
    },
    {
     "data": {
      "image/png": "[encoded data removed]",
      "text/plain": [
       "<Figure size 432x288 with 1 Axes>"
      ]
     },
     "metadata": {
      "needs_background": "light"
     },
     "output_type": "display_data"
    }
   ],
   "source": [
    "ages.plot(kind='bar')"
   ]
  },
  {
   "cell_type": "markdown",
   "metadata": {},
   "source": [
    "### Indexing\n",
    "\n",
    "We can get values back out using the index via the `.loc` attribute. Or by raw position using `.iloc`, raw positioning is the numbered, zero-based indexing that we have seen before)."
   ]
  },
  {
   "cell_type": "code",
   "execution_count": 7,
   "metadata": {},
   "outputs": [
    {
     "name": "stdout",
     "output_type": "stream",
     "text": [
      "30\n",
      "30\n",
      "22\n",
      "22\n"
     ]
    }
   ],
   "source": [
    "print(ages.loc['Alice'])\n",
    "print(ages.iloc[0])\n",
    "print(ages.loc['Claire'])\n",
    "print(ages.iloc[2])"
   ]
  },
  {
   "cell_type": "markdown",
   "metadata": {},
   "source": [
    "If we need to, we can always get the raw data back out as well"
   ]
  },
  {
   "cell_type": "code",
   "execution_count": 8,
   "metadata": {},
   "outputs": [
    {
     "data": {
      "text/plain": [
       "array([30, 15, 22])"
      ]
     },
     "execution_count": 8,
     "metadata": {},
     "output_type": "execute_result"
    }
   ],
   "source": [
    "ages.values # a numpy array"
   ]
  },
  {
   "cell_type": "markdown",
   "metadata": {},
   "source": [
    "## Pandas Data Structures: DataFrame\n",
    "\n",
    "There is a lot more to Series, but they are limit to a single \"column\". A more useful Pandas data structure is the __DataFrame__, which is a 2D data structure.  A DataFrame is basically a bunch of series that share the same index. It's a lot like a table in a spreadsheet. A DataFrame can handle all sorts of data, such as n-dimensional ndarrays, lists and Series. Along with the data, you can again optionally pass __index__ (row labels) and __columns__ (column labels) arguments. \n",
    "\n",
    "Below we create a DataFrame."
   ]
  },
  {
   "cell_type": "code",
   "execution_count": 9,
   "metadata": {},
   "outputs": [
    {
     "data": {
      "text/html": [
       "<div>\n",
       "<style scoped>\n",
       "    .dataframe tbody tr th:only-of-type {\n",
       "        vertical-align: middle;\n",
       "    }\n",
       "\n",
       "    .dataframe tbody tr th {\n",
       "        vertical-align: top;\n",
       "    }\n",
       "\n",
       "    .dataframe thead th {\n",
       "        text-align: right;\n",
       "    }\n",
       "</style>\n",
       "<table border=\"1\" class=\"dataframe\">\n",
       "  <thead>\n",
       "    <tr style=\"text-align: right;\">\n",
       "      <th></th>\n",
       "      <th>age</th>\n",
       "      <th>height</th>\n",
       "      <th>weight</th>\n",
       "    </tr>\n",
       "  </thead>\n",
       "  <tbody>\n",
       "    <tr>\n",
       "      <th>Alice</th>\n",
       "      <td>30</td>\n",
       "      <td>180</td>\n",
       "      <td>70.0</td>\n",
       "    </tr>\n",
       "    <tr>\n",
       "      <th>Bob</th>\n",
       "      <td>15</td>\n",
       "      <td>155</td>\n",
       "      <td>52.0</td>\n",
       "    </tr>\n",
       "    <tr>\n",
       "      <th>Claire</th>\n",
       "      <td>22</td>\n",
       "      <td>160</td>\n",
       "      <td>NaN</td>\n",
       "    </tr>\n",
       "  </tbody>\n",
       "</table>\n",
       "</div>"
      ],
      "text/plain": [
       "        age  height  weight\n",
       "Alice    30     180    70.0\n",
       "Bob      15     155    52.0\n",
       "Claire   22     160     NaN"
      ]
     },
     "execution_count": 9,
     "metadata": {},
     "output_type": "execute_result"
    }
   ],
   "source": [
    "# first we create a dictionary\n",
    "data = {'age': [30, 15, 22],\n",
    "        'height': [180, 155, 160],\n",
    "        'weight': [70, 52, np.nan]}\n",
    "df = pd.DataFrame(data, index=['Alice', 'Bob', 'Claire'])\n",
    "df"
   ]
  },
  {
   "cell_type": "markdown",
   "metadata": {},
   "source": [
    "You can easily get information about a DataFrame with the command `pd.info()`. This tells you the size of the DataFrame, the type of data is in there and how much memory it uses."
   ]
  },
  {
   "cell_type": "code",
   "execution_count": 10,
   "metadata": {},
   "outputs": [
    {
     "name": "stdout",
     "output_type": "stream",
     "text": [
      "<class 'pandas.core.frame.DataFrame'>\n",
      "Index: 3 entries, Alice to Claire\n",
      "Data columns (total 3 columns):\n",
      " #   Column  Non-Null Count  Dtype  \n",
      "---  ------  --------------  -----  \n",
      " 0   age     3 non-null      int64  \n",
      " 1   height  3 non-null      int64  \n",
      " 2   weight  2 non-null      float64\n",
      "dtypes: float64(1), int64(2)\n",
      "memory usage: 96.0+ bytes\n"
     ]
    }
   ],
   "source": [
    "df.info()"
   ]
  },
  {
   "cell_type": "markdown",
   "metadata": {},
   "source": [
    "In the table above, you see `NaN`. This means 'not a number' and represents missing data. When dealing with real data, often you have to deal with this. Pandas handles missing data very elegantly, keeping track of it through all calculations. To easily locate missing data, you can use the commands `pd.isna()` and `pd.notna()`. "
   ]
  },
  {
   "cell_type": "code",
   "execution_count": 11,
   "metadata": {},
   "outputs": [
    {
     "data": {
      "text/plain": [
       "Alice     False\n",
       "Bob       False\n",
       "Claire     True\n",
       "Name: weight, dtype: bool"
      ]
     },
     "execution_count": 11,
     "metadata": {},
     "output_type": "execute_result"
    }
   ],
   "source": [
    "pd.isna(df['weight'])"
   ]
  },
  {
   "cell_type": "code",
   "execution_count": 12,
   "metadata": {},
   "outputs": [
    {
     "data": {
      "text/plain": [
       "Alice      True\n",
       "Bob        True\n",
       "Claire    False\n",
       "Name: weight, dtype: bool"
      ]
     },
     "execution_count": 12,
     "metadata": {},
     "output_type": "execute_result"
    }
   ],
   "source": [
    "pd.notna(df['weight'])"
   ]
  },
  {
   "cell_type": "markdown",
   "metadata": {},
   "source": [
    "You see that these commands give a Boolean result which tell you where the `NaN`s are.\n",
    "\n",
    "A wide range of statistical functions are available on both Series and DataFrames. You will see that if you don't specify over what index/column you want to apply this function, these functions return the output per index. You can also see that these functions still work even though we have missing data. We show some examples below:"
   ]
  },
  {
   "cell_type": "code",
   "execution_count": 13,
   "metadata": {},
   "outputs": [
    {
     "data": {
      "text/plain": [
       "Index(['Alice', 'Bob', 'Claire'], dtype='object')"
      ]
     },
     "execution_count": 13,
     "metadata": {},
     "output_type": "execute_result"
    }
   ],
   "source": [
    "df.index"
   ]
  },
  {
   "cell_type": "code",
   "execution_count": 14,
   "metadata": {},
   "outputs": [
    {
     "data": {
      "text/plain": [
       "age        15.0\n",
       "height    155.0\n",
       "weight     52.0\n",
       "dtype: float64"
      ]
     },
     "execution_count": 14,
     "metadata": {},
     "output_type": "execute_result"
    }
   ],
   "source": [
    "df.min() # minimum value"
   ]
  },
  {
   "cell_type": "code",
   "execution_count": 15,
   "metadata": {},
   "outputs": [
    {
     "data": {
      "text/plain": [
       "age        22.333333\n",
       "height    165.000000\n",
       "weight     61.000000\n",
       "dtype: float64"
      ]
     },
     "execution_count": 15,
     "metadata": {},
     "output_type": "execute_result"
    }
   ],
   "source": [
    "df.mean() # average"
   ]
  },
  {
   "cell_type": "code",
   "execution_count": 16,
   "metadata": {},
   "outputs": [
    {
     "data": {
      "text/plain": [
       "age        7.505553\n",
       "height    13.228757\n",
       "weight    12.727922\n",
       "dtype: float64"
      ]
     },
     "execution_count": 16,
     "metadata": {},
     "output_type": "execute_result"
    }
   ],
   "source": [
    "df.std() # standard deviation"
   ]
  },
  {
   "cell_type": "markdown",
   "metadata": {},
   "source": [
    "A very useful command is `describe`, this provides an overview of some basic statics of a DataFrame."
   ]
  },
  {
   "cell_type": "code",
   "execution_count": 17,
   "metadata": {},
   "outputs": [
    {
     "data": {
      "text/html": [
       "<div>\n",
       "<style scoped>\n",
       "    .dataframe tbody tr th:only-of-type {\n",
       "        vertical-align: middle;\n",
       "    }\n",
       "\n",
       "    .dataframe tbody tr th {\n",
       "        vertical-align: top;\n",
       "    }\n",
       "\n",
       "    .dataframe thead th {\n",
       "        text-align: right;\n",
       "    }\n",
       "</style>\n",
       "<table border=\"1\" class=\"dataframe\">\n",
       "  <thead>\n",
       "    <tr style=\"text-align: right;\">\n",
       "      <th></th>\n",
       "      <th>age</th>\n",
       "      <th>height</th>\n",
       "      <th>weight</th>\n",
       "    </tr>\n",
       "  </thead>\n",
       "  <tbody>\n",
       "    <tr>\n",
       "      <th>count</th>\n",
       "      <td>3.000000</td>\n",
       "      <td>3.000000</td>\n",
       "      <td>2.000000</td>\n",
       "    </tr>\n",
       "    <tr>\n",
       "      <th>mean</th>\n",
       "      <td>22.333333</td>\n",
       "      <td>165.000000</td>\n",
       "      <td>61.000000</td>\n",
       "    </tr>\n",
       "    <tr>\n",
       "      <th>std</th>\n",
       "      <td>7.505553</td>\n",
       "      <td>13.228757</td>\n",
       "      <td>12.727922</td>\n",
       "    </tr>\n",
       "    <tr>\n",
       "      <th>min</th>\n",
       "      <td>15.000000</td>\n",
       "      <td>155.000000</td>\n",
       "      <td>52.000000</td>\n",
       "    </tr>\n",
       "    <tr>\n",
       "      <th>25%</th>\n",
       "      <td>18.500000</td>\n",
       "      <td>157.500000</td>\n",
       "      <td>56.500000</td>\n",
       "    </tr>\n",
       "    <tr>\n",
       "      <th>50%</th>\n",
       "      <td>22.000000</td>\n",
       "      <td>160.000000</td>\n",
       "      <td>61.000000</td>\n",
       "    </tr>\n",
       "    <tr>\n",
       "      <th>75%</th>\n",
       "      <td>26.000000</td>\n",
       "      <td>170.000000</td>\n",
       "      <td>65.500000</td>\n",
       "    </tr>\n",
       "    <tr>\n",
       "      <th>max</th>\n",
       "      <td>30.000000</td>\n",
       "      <td>180.000000</td>\n",
       "      <td>70.000000</td>\n",
       "    </tr>\n",
       "  </tbody>\n",
       "</table>\n",
       "</div>"
      ],
      "text/plain": [
       "             age      height     weight\n",
       "count   3.000000    3.000000   2.000000\n",
       "mean   22.333333  165.000000  61.000000\n",
       "std     7.505553   13.228757  12.727922\n",
       "min    15.000000  155.000000  52.000000\n",
       "25%    18.500000  157.500000  56.500000\n",
       "50%    22.000000  160.000000  61.000000\n",
       "75%    26.000000  170.000000  65.500000\n",
       "max    30.000000  180.000000  70.000000"
      ]
     },
     "execution_count": 17,
     "metadata": {},
     "output_type": "execute_result"
    }
   ],
   "source": [
    "df.describe()"
   ]
  },
  {
   "cell_type": "code",
   "execution_count": 18,
   "metadata": {},
   "outputs": [
    {
     "data": {
      "text/plain": [
       "Index(['Alice', 'Bob', 'Claire'], dtype='object')"
      ]
     },
     "execution_count": 18,
     "metadata": {},
     "output_type": "execute_result"
    }
   ],
   "source": [
    "df.index"
   ]
  },
  {
   "cell_type": "markdown",
   "metadata": {},
   "source": [
    "## Indexing\n",
    "\n",
    "Indexing for DataFrames is very similar to Series (`loc` and `iloc`). We can also get a single column as a Series using Python's getitem syntax on the DataFrame object or by using the attribute syntax (examples given below). Note that we are now dealing with 2D data, so if you want to get one singular entry, you need to specify both the row and the column."
   ]
  },
  {
   "cell_type": "code",
   "execution_count": 19,
   "metadata": {},
   "outputs": [
    {
     "data": {
      "text/plain": [
       "Alice     180\n",
       "Bob       155\n",
       "Claire    160\n",
       "Name: height, dtype: int64"
      ]
     },
     "execution_count": 19,
     "metadata": {},
     "output_type": "execute_result"
    }
   ],
   "source": [
    "df['height'] # getitem syntax"
   ]
  },
  {
   "cell_type": "code",
   "execution_count": 20,
   "metadata": {},
   "outputs": [
    {
     "data": {
      "text/plain": [
       "Alice     180\n",
       "Bob       155\n",
       "Claire    160\n",
       "Name: height, dtype: int64"
      ]
     },
     "execution_count": 20,
     "metadata": {},
     "output_type": "execute_result"
    }
   ],
   "source": [
    "df.height # attribute syntax"
   ]
  },
  {
   "cell_type": "code",
   "execution_count": 21,
   "metadata": {},
   "outputs": [
    {
     "data": {
      "text/plain": [
       "age        15.0\n",
       "height    155.0\n",
       "weight     52.0\n",
       "Name: Bob, dtype: float64"
      ]
     },
     "execution_count": 21,
     "metadata": {},
     "output_type": "execute_result"
    }
   ],
   "source": [
    "df.loc['Bob']"
   ]
  },
  {
   "cell_type": "code",
   "execution_count": 22,
   "metadata": {},
   "outputs": [
    {
     "data": {
      "text/plain": [
       "age        22.0\n",
       "height    160.0\n",
       "weight      NaN\n",
       "Name: Claire, dtype: float64"
      ]
     },
     "execution_count": 22,
     "metadata": {},
     "output_type": "execute_result"
    }
   ],
   "source": [
    "df.iloc[2]"
   ]
  },
  {
   "cell_type": "code",
   "execution_count": 23,
   "metadata": {},
   "outputs": [
    {
     "data": {
      "text/plain": [
       "22"
      ]
     },
     "execution_count": 23,
     "metadata": {},
     "output_type": "execute_result"
    }
   ],
   "source": [
    "df.loc['Claire', 'age'] # to get one entry, specify the index(=row) and the column"
   ]
  },
  {
   "cell_type": "code",
   "execution_count": 24,
   "metadata": {},
   "outputs": [
    {
     "data": {
      "text/plain": [
       "Alice    30\n",
       "Bob      15\n",
       "Name: age, dtype: int64"
      ]
     },
     "execution_count": 24,
     "metadata": {},
     "output_type": "execute_result"
    }
   ],
   "source": [
    "df.iloc[:2, 0] # or with 'normal' zero-based indexing"
   ]
  },
  {
   "cell_type": "markdown",
   "metadata": {},
   "source": [
    "## Calculations\n",
    "\n",
    "We can make a calculation using columns from the DataFrame, it will keep the same index. We can easily add  these as another column to the DataFrame. "
   ]
  },
  {
   "cell_type": "code",
   "execution_count": 25,
   "metadata": {},
   "outputs": [
    {
     "data": {
      "text/html": [
       "<div>\n",
       "<style scoped>\n",
       "    .dataframe tbody tr th:only-of-type {\n",
       "        vertical-align: middle;\n",
       "    }\n",
       "\n",
       "    .dataframe tbody tr th {\n",
       "        vertical-align: top;\n",
       "    }\n",
       "\n",
       "    .dataframe thead th {\n",
       "        text-align: right;\n",
       "    }\n",
       "</style>\n",
       "<table border=\"1\" class=\"dataframe\">\n",
       "  <thead>\n",
       "    <tr style=\"text-align: right;\">\n",
       "      <th></th>\n",
       "      <th>age</th>\n",
       "      <th>height</th>\n",
       "      <th>weight</th>\n",
       "      <th>BMI</th>\n",
       "    </tr>\n",
       "  </thead>\n",
       "  <tbody>\n",
       "    <tr>\n",
       "      <th>Alice</th>\n",
       "      <td>30</td>\n",
       "      <td>180</td>\n",
       "      <td>70.0</td>\n",
       "      <td>21.604938</td>\n",
       "    </tr>\n",
       "    <tr>\n",
       "      <th>Bob</th>\n",
       "      <td>15</td>\n",
       "      <td>155</td>\n",
       "      <td>52.0</td>\n",
       "      <td>21.644121</td>\n",
       "    </tr>\n",
       "    <tr>\n",
       "      <th>Claire</th>\n",
       "      <td>22</td>\n",
       "      <td>160</td>\n",
       "      <td>NaN</td>\n",
       "      <td>NaN</td>\n",
       "    </tr>\n",
       "  </tbody>\n",
       "</table>\n",
       "</div>"
      ],
      "text/plain": [
       "        age  height  weight        BMI\n",
       "Alice    30     180    70.0  21.604938\n",
       "Bob      15     155    52.0  21.644121\n",
       "Claire   22     160     NaN        NaN"
      ]
     },
     "execution_count": 25,
     "metadata": {},
     "output_type": "execute_result"
    }
   ],
   "source": [
    "df['BMI'] = df.weight / (df.height/100)**2\n",
    "df"
   ]
  },
  {
   "cell_type": "markdown",
   "metadata": {},
   "source": [
    "We can also index using a Boolean series. This is very useful to extract certain portions of the DataFrame."
   ]
  },
  {
   "cell_type": "code",
   "execution_count": 26,
   "metadata": {},
   "outputs": [
    {
     "data": {
      "text/html": [
       "<div>\n",
       "<style scoped>\n",
       "    .dataframe tbody tr th:only-of-type {\n",
       "        vertical-align: middle;\n",
       "    }\n",
       "\n",
       "    .dataframe tbody tr th {\n",
       "        vertical-align: top;\n",
       "    }\n",
       "\n",
       "    .dataframe thead th {\n",
       "        text-align: right;\n",
       "    }\n",
       "</style>\n",
       "<table border=\"1\" class=\"dataframe\">\n",
       "  <thead>\n",
       "    <tr style=\"text-align: right;\">\n",
       "      <th></th>\n",
       "      <th>age</th>\n",
       "      <th>height</th>\n",
       "      <th>weight</th>\n",
       "      <th>BMI</th>\n",
       "      <th>is_adult</th>\n",
       "    </tr>\n",
       "  </thead>\n",
       "  <tbody>\n",
       "    <tr>\n",
       "      <th>Alice</th>\n",
       "      <td>30</td>\n",
       "      <td>180</td>\n",
       "      <td>70.0</td>\n",
       "      <td>21.604938</td>\n",
       "      <td>True</td>\n",
       "    </tr>\n",
       "    <tr>\n",
       "      <th>Bob</th>\n",
       "      <td>15</td>\n",
       "      <td>155</td>\n",
       "      <td>52.0</td>\n",
       "      <td>21.644121</td>\n",
       "      <td>False</td>\n",
       "    </tr>\n",
       "    <tr>\n",
       "      <th>Claire</th>\n",
       "      <td>22</td>\n",
       "      <td>160</td>\n",
       "      <td>NaN</td>\n",
       "      <td>NaN</td>\n",
       "      <td>True</td>\n",
       "    </tr>\n",
       "  </tbody>\n",
       "</table>\n",
       "</div>"
      ],
      "text/plain": [
       "        age  height  weight        BMI  is_adult\n",
       "Alice    30     180    70.0  21.604938      True\n",
       "Bob      15     155    52.0  21.644121     False\n",
       "Claire   22     160     NaN        NaN      True"
      ]
     },
     "execution_count": 26,
     "metadata": {},
     "output_type": "execute_result"
    }
   ],
   "source": [
    "df['is_adult'] = df.age > 18\n",
    "df"
   ]
  },
  {
   "cell_type": "markdown",
   "metadata": {},
   "source": [
    "## Plotting\n",
    "\n",
    "Like we saw with Series, DataFrames have all kinds of [useful plotting](https://pandas.pydata.org/pandas-docs/stable/visualization.html) built in. We will go through some examples below:"
   ]
  },
  {
   "cell_type": "code",
   "execution_count": 27,
   "metadata": {},
   "outputs": [
    {
     "data": {
      "text/plain": [
       "<matplotlib.axes._subplots.AxesSubplot at 0x7fc6c62518d0>"
      ]
     },
     "execution_count": 27,
     "metadata": {},
     "output_type": "execute_result"
    },
    {
     "data": {
      "image/png": "[encoded data removed]",
      "text/plain": [
       "<Figure size 432x288 with 1 Axes>"
      ]
     },
     "metadata": {
      "needs_background": "light"
     },
     "output_type": "display_data"
    }
   ],
   "source": [
    "df.plot(kind='scatter', x='age', y='height', grid=True, s=100)"
   ]
  },
  {
   "cell_type": "code",
   "execution_count": 28,
   "metadata": {},
   "outputs": [
    {
     "data": {
      "text/plain": [
       "<matplotlib.axes._subplots.AxesSubplot at 0x7fc6c62c22b0>"
      ]
     },
     "execution_count": 28,
     "metadata": {},
     "output_type": "execute_result"
    },
    {
     "data": {
      "image/png": "[encoded data removed]",
      "text/plain": [
       "<Figure size 432x288 with 1 Axes>"
      ]
     },
     "metadata": {
      "needs_background": "light"
     },
     "output_type": "display_data"
    }
   ],
   "source": [
    "df.plot(kind='bar')"
   ]
  },
  {
   "cell_type": "markdown",
   "metadata": {},
   "source": [
    "## Time Indexes\n",
    "\n",
    "Indexes are very powerful. They are a big part of why Pandas is so useful. There are different indices for different types of data. Time Indexes are especially great! In the following example, we will create a time array with the command `pd.date_range` . "
   ]
  },
  {
   "cell_type": "code",
   "execution_count": 29,
   "metadata": {},
   "outputs": [
    {
     "data": {
      "text/plain": [
       "DatetimeIndex(['2014-01-01', '2014-01-02', '2014-01-03', '2014-01-04',\n",
       "               '2014-01-05', '2014-01-06', '2014-01-07', '2014-01-08',\n",
       "               '2014-01-09', '2014-01-10',\n",
       "               ...\n",
       "               '2015-12-23', '2015-12-24', '2015-12-25', '2015-12-26',\n",
       "               '2015-12-27', '2015-12-28', '2015-12-29', '2015-12-30',\n",
       "               '2015-12-31', '2016-01-01'],\n",
       "              dtype='datetime64[ns]', length=731, freq='D')"
      ]
     },
     "execution_count": 29,
     "metadata": {},
     "output_type": "execute_result"
    }
   ],
   "source": [
    "two_years = pd.date_range(start='2014-01-01', end='2016-01-01', freq='D')\n",
    "two_years"
   ]
  },
  {
   "cell_type": "code",
   "execution_count": 30,
   "metadata": {},
   "outputs": [
    {
     "data": {
      "text/plain": [
       "<matplotlib.axes._subplots.AxesSubplot at 0x7fc6c63a1668>"
      ]
     },
     "execution_count": 30,
     "metadata": {},
     "output_type": "execute_result"
    },
    {
     "data": {
      "image/png": "[encoded data removed]",
      "text/plain": [
       "<Figure size 432x288 with 1 Axes>"
      ]
     },
     "metadata": {
      "needs_background": "light"
     },
     "output_type": "display_data"
    }
   ],
   "source": [
    "timeseries = pd.Series(np.sin(2 *np.pi *two_years.dayofyear / 365),\n",
    "                       index=two_years)\n",
    "timeseries.plot()"
   ]
  },
  {
   "cell_type": "markdown",
   "metadata": {},
   "source": [
    "We had specified the full date, but you can for example also get certain parts of these times in days with the command `timeseries.index.dayofyear`, or the month with `timeseries.index.month` or the day in the month with `timeseries.index.day`."
   ]
  },
  {
   "cell_type": "code",
   "execution_count": 31,
   "metadata": {},
   "outputs": [
    {
     "name": "stdout",
     "output_type": "stream",
     "text": [
      "Int64Index([  1,   2,   3,   4,   5,   6,   7,   8,   9,  10,\n",
      "            ...\n",
      "            357, 358, 359, 360, 361, 362, 363, 364, 365,   1],\n",
      "           dtype='int64', length=731) Int64Index([ 1,  1,  1,  1,  1,  1,  1,  1,  1,  1,\n",
      "            ...\n",
      "            12, 12, 12, 12, 12, 12, 12, 12, 12,  1],\n",
      "           dtype='int64', length=731) Int64Index([ 1,  2,  3,  4,  5,  6,  7,  8,  9, 10,\n",
      "            ...\n",
      "            23, 24, 25, 26, 27, 28, 29, 30, 31,  1],\n",
      "           dtype='int64', length=731)\n"
     ]
    }
   ],
   "source": [
    "print(timeseries.index.dayofyear,timeseries.index.month,timeseries.index.day)"
   ]
  },
  {
   "cell_type": "markdown",
   "metadata": {},
   "source": [
    "We can use python's slicing notation inside `.loc` to select a date range."
   ]
  },
  {
   "cell_type": "code",
   "execution_count": 32,
   "metadata": {},
   "outputs": [
    {
     "data": {
      "text/plain": [
       "<matplotlib.axes._subplots.AxesSubplot at 0x7fc6c65007f0>"
      ]
     },
     "execution_count": 32,
     "metadata": {},
     "output_type": "execute_result"
    },
    {
     "data": {
      "image/png": "[encoded data removed]",
      "text/plain": [
       "<Figure size 432x288 with 1 Axes>"
      ]
     },
     "metadata": {
      "needs_background": "light"
     },
     "output_type": "display_data"
    }
   ],
   "source": [
    "timeseries.loc['2015-01-01':'2015-07-01'].plot()"
   ]
  },
  {
   "cell_type": "markdown",
   "metadata": {},
   "source": [
    "## Reading Data Files: Weather Station Data\n",
    "\n",
    "In this example, we will use weather station data from the [National Center of Environmental Information from the NOAA](https://www.ncei.noaa.gov/access/search/dataset-search?observationTypes=Land%20Surface). Here, you can find a lot of data and model output freely available. The [data](https://github.com/JannekeKrabbendam93/Python-Climate-Physics-2021/blob/main/sample.csv) used here are part of the Global Summary of the Day and they are measured at the airport in Denver (USA) in 2018. The accompanying [ReadMe file](https://github.com/JannekeKrabbendam93/Python-Climate-Physics-2021/blob/main/README.txt) gives a description of the data, for example the units that the data are in. I have already downloaded the data for you and uploaded it on GitHub and Blackboard.\n",
    "\n",
    "If you download that file, you now have a csv file on our hard drive called `sample.csv`. Examine it.\n",
    "\n",
    "To read it into Pandas, we will use the [read_csv](https://pandas.pydata.org/pandas-docs/stable/generated/pandas.read_csv.html) function. This function is incredibly complex and powerful. You can use it to extract data from almost any text file. However, you need to understand how to use its various options.\n",
    "\n",
    "Before you load this file into Python, make sure that either the datafile is in the same folder as your notebook, or provide the notebook with a path to the datafile. I put the file in a folder called `data`, this folder is located in the same folder as the notebook, so the path to the data is `data/sample.csv`.\n",
    "\n",
    "With no options, this is what we get."
   ]
  },
  {
   "cell_type": "code",
   "execution_count": 33,
   "metadata": {},
   "outputs": [
    {
     "data": {
      "text/html": [
       "<div>\n",
       "<style scoped>\n",
       "    .dataframe tbody tr th:only-of-type {\n",
       "        vertical-align: middle;\n",
       "    }\n",
       "\n",
       "    .dataframe tbody tr th {\n",
       "        vertical-align: top;\n",
       "    }\n",
       "\n",
       "    .dataframe thead th {\n",
       "        text-align: right;\n",
       "    }\n",
       "</style>\n",
       "<table border=\"1\" class=\"dataframe\">\n",
       "  <thead>\n",
       "    <tr style=\"text-align: right;\">\n",
       "      <th></th>\n",
       "      <th>STATION</th>\n",
       "      <th>DATE</th>\n",
       "      <th>LATITUDE</th>\n",
       "      <th>LONGITUDE</th>\n",
       "      <th>ELEVATION</th>\n",
       "      <th>NAME</th>\n",
       "      <th>TEMP</th>\n",
       "      <th>TEMP_ATTRIBUTES</th>\n",
       "      <th>DEWP</th>\n",
       "      <th>DEWP_ATTRIBUTES</th>\n",
       "      <th>...</th>\n",
       "      <th>MXSPD</th>\n",
       "      <th>GUST</th>\n",
       "      <th>MAX</th>\n",
       "      <th>MAX_ATTRIBUTES</th>\n",
       "      <th>MIN</th>\n",
       "      <th>MIN_ATTRIBUTES</th>\n",
       "      <th>PRCP</th>\n",
       "      <th>PRCP_ATTRIBUTES</th>\n",
       "      <th>SNDP</th>\n",
       "      <th>FRSHTT</th>\n",
       "    </tr>\n",
       "  </thead>\n",
       "  <tbody>\n",
       "    <tr>\n",
       "      <th>0</th>\n",
       "      <td>72565003017</td>\n",
       "      <td>01/01/2018</td>\n",
       "      <td>39.8328</td>\n",
       "      <td>-104.6575</td>\n",
       "      <td>1650.2</td>\n",
       "      <td>DENVER INTERNATIONAL AIRPORT, CO US</td>\n",
       "      <td>11.6</td>\n",
       "      <td>24</td>\n",
       "      <td>5.5</td>\n",
       "      <td>24</td>\n",
       "      <td>...</td>\n",
       "      <td>9.9</td>\n",
       "      <td>999.9</td>\n",
       "      <td>28.0</td>\n",
       "      <td></td>\n",
       "      <td>3.0</td>\n",
       "      <td></td>\n",
       "      <td>0.0</td>\n",
       "      <td>G</td>\n",
       "      <td>999.9</td>\n",
       "      <td>1000</td>\n",
       "    </tr>\n",
       "    <tr>\n",
       "      <th>1</th>\n",
       "      <td>72565003017</td>\n",
       "      <td>02/01/2018</td>\n",
       "      <td>39.8328</td>\n",
       "      <td>-104.6575</td>\n",
       "      <td>1650.2</td>\n",
       "      <td>DENVER INTERNATIONAL AIRPORT, CO US</td>\n",
       "      <td>21.2</td>\n",
       "      <td>24</td>\n",
       "      <td>7.3</td>\n",
       "      <td>24</td>\n",
       "      <td>...</td>\n",
       "      <td>9.9</td>\n",
       "      <td>999.9</td>\n",
       "      <td>43.0</td>\n",
       "      <td></td>\n",
       "      <td>3.0</td>\n",
       "      <td></td>\n",
       "      <td>0.0</td>\n",
       "      <td>G</td>\n",
       "      <td>999.9</td>\n",
       "      <td>0</td>\n",
       "    </tr>\n",
       "    <tr>\n",
       "      <th>2</th>\n",
       "      <td>72565003017</td>\n",
       "      <td>03/01/2018</td>\n",
       "      <td>39.8328</td>\n",
       "      <td>-104.6575</td>\n",
       "      <td>1650.2</td>\n",
       "      <td>DENVER INTERNATIONAL AIRPORT, CO US</td>\n",
       "      <td>31.8</td>\n",
       "      <td>24</td>\n",
       "      <td>3.0</td>\n",
       "      <td>24</td>\n",
       "      <td>...</td>\n",
       "      <td>15.9</td>\n",
       "      <td>24.1</td>\n",
       "      <td>53.1</td>\n",
       "      <td></td>\n",
       "      <td>10.9</td>\n",
       "      <td></td>\n",
       "      <td>0.0</td>\n",
       "      <td>G</td>\n",
       "      <td>999.9</td>\n",
       "      <td>0</td>\n",
       "    </tr>\n",
       "    <tr>\n",
       "      <th>3</th>\n",
       "      <td>72565003017</td>\n",
       "      <td>04/01/2018</td>\n",
       "      <td>39.8328</td>\n",
       "      <td>-104.6575</td>\n",
       "      <td>1650.2</td>\n",
       "      <td>DENVER INTERNATIONAL AIRPORT, CO US</td>\n",
       "      <td>34.6</td>\n",
       "      <td>24</td>\n",
       "      <td>11.6</td>\n",
       "      <td>24</td>\n",
       "      <td>...</td>\n",
       "      <td>8.9</td>\n",
       "      <td>999.9</td>\n",
       "      <td>53.1</td>\n",
       "      <td></td>\n",
       "      <td>17.1</td>\n",
       "      <td></td>\n",
       "      <td>0.0</td>\n",
       "      <td>G</td>\n",
       "      <td>999.9</td>\n",
       "      <td>0</td>\n",
       "    </tr>\n",
       "    <tr>\n",
       "      <th>4</th>\n",
       "      <td>72565003017</td>\n",
       "      <td>05/01/2018</td>\n",
       "      <td>39.8328</td>\n",
       "      <td>-104.6575</td>\n",
       "      <td>1650.2</td>\n",
       "      <td>DENVER INTERNATIONAL AIRPORT, CO US</td>\n",
       "      <td>36.3</td>\n",
       "      <td>24</td>\n",
       "      <td>11.4</td>\n",
       "      <td>24</td>\n",
       "      <td>...</td>\n",
       "      <td>14.0</td>\n",
       "      <td>999.9</td>\n",
       "      <td>55.9</td>\n",
       "      <td></td>\n",
       "      <td>23.0</td>\n",
       "      <td></td>\n",
       "      <td>0.0</td>\n",
       "      <td>G</td>\n",
       "      <td>999.9</td>\n",
       "      <td>0</td>\n",
       "    </tr>\n",
       "  </tbody>\n",
       "</table>\n",
       "<p>5 rows × 28 columns</p>\n",
       "</div>"
      ],
      "text/plain": [
       "       STATION        DATE  LATITUDE  LONGITUDE  ELEVATION  \\\n",
       "0  72565003017  01/01/2018   39.8328  -104.6575     1650.2   \n",
       "1  72565003017  02/01/2018   39.8328  -104.6575     1650.2   \n",
       "2  72565003017  03/01/2018   39.8328  -104.6575     1650.2   \n",
       "3  72565003017  04/01/2018   39.8328  -104.6575     1650.2   \n",
       "4  72565003017  05/01/2018   39.8328  -104.6575     1650.2   \n",
       "\n",
       "                                  NAME  TEMP  TEMP_ATTRIBUTES  DEWP  \\\n",
       "0  DENVER INTERNATIONAL AIRPORT, CO US  11.6               24   5.5   \n",
       "1  DENVER INTERNATIONAL AIRPORT, CO US  21.2               24   7.3   \n",
       "2  DENVER INTERNATIONAL AIRPORT, CO US  31.8               24   3.0   \n",
       "3  DENVER INTERNATIONAL AIRPORT, CO US  34.6               24  11.6   \n",
       "4  DENVER INTERNATIONAL AIRPORT, CO US  36.3               24  11.4   \n",
       "\n",
       "   DEWP_ATTRIBUTES  ...  MXSPD   GUST   MAX  MAX_ATTRIBUTES   MIN  \\\n",
       "0               24  ...    9.9  999.9  28.0                   3.0   \n",
       "1               24  ...    9.9  999.9  43.0                   3.0   \n",
       "2               24  ...   15.9   24.1  53.1                  10.9   \n",
       "3               24  ...    8.9  999.9  53.1                  17.1   \n",
       "4               24  ...   14.0  999.9  55.9                  23.0   \n",
       "\n",
       "   MIN_ATTRIBUTES  PRCP  PRCP_ATTRIBUTES   SNDP  FRSHTT  \n",
       "0                   0.0                G  999.9    1000  \n",
       "1                   0.0                G  999.9       0  \n",
       "2                   0.0                G  999.9       0  \n",
       "3                   0.0                G  999.9       0  \n",
       "4                   0.0                G  999.9       0  \n",
       "\n",
       "[5 rows x 28 columns]"
      ]
     },
     "execution_count": 33,
     "metadata": {},
     "output_type": "execute_result"
    }
   ],
   "source": [
    "df = pd.read_csv('data/sample.csv')\n",
    "df.head()"
   ]
  },
  {
   "cell_type": "markdown",
   "metadata": {},
   "source": [
    "You see that Pandas immediately is able to recognise the headers and the different columns. This is because in our file, the columns are separated by a comma, like expected. If you would try to read a different text file, where the columns are separated in a different way, you can tell pandas this by using the keyword `sep`.\n",
    "\n",
    "If we look closely, we will see there are lots of 999.9 and 99.99 values in the file. The README tells us that these are values used to represent missing data. Let's tell this to pandas."
   ]
  },
  {
   "cell_type": "code",
   "execution_count": 34,
   "metadata": {},
   "outputs": [
    {
     "data": {
      "text/html": [
       "<div>\n",
       "<style scoped>\n",
       "    .dataframe tbody tr th:only-of-type {\n",
       "        vertical-align: middle;\n",
       "    }\n",
       "\n",
       "    .dataframe tbody tr th {\n",
       "        vertical-align: top;\n",
       "    }\n",
       "\n",
       "    .dataframe thead th {\n",
       "        text-align: right;\n",
       "    }\n",
       "</style>\n",
       "<table border=\"1\" class=\"dataframe\">\n",
       "  <thead>\n",
       "    <tr style=\"text-align: right;\">\n",
       "      <th></th>\n",
       "      <th>STATION</th>\n",
       "      <th>DATE</th>\n",
       "      <th>LATITUDE</th>\n",
       "      <th>LONGITUDE</th>\n",
       "      <th>ELEVATION</th>\n",
       "      <th>NAME</th>\n",
       "      <th>TEMP</th>\n",
       "      <th>TEMP_ATTRIBUTES</th>\n",
       "      <th>DEWP</th>\n",
       "      <th>DEWP_ATTRIBUTES</th>\n",
       "      <th>...</th>\n",
       "      <th>MXSPD</th>\n",
       "      <th>GUST</th>\n",
       "      <th>MAX</th>\n",
       "      <th>MAX_ATTRIBUTES</th>\n",
       "      <th>MIN</th>\n",
       "      <th>MIN_ATTRIBUTES</th>\n",
       "      <th>PRCP</th>\n",
       "      <th>PRCP_ATTRIBUTES</th>\n",
       "      <th>SNDP</th>\n",
       "      <th>FRSHTT</th>\n",
       "    </tr>\n",
       "  </thead>\n",
       "  <tbody>\n",
       "    <tr>\n",
       "      <th>0</th>\n",
       "      <td>72565003017</td>\n",
       "      <td>01/01/2018</td>\n",
       "      <td>39.8328</td>\n",
       "      <td>-104.6575</td>\n",
       "      <td>1650.2</td>\n",
       "      <td>DENVER INTERNATIONAL AIRPORT, CO US</td>\n",
       "      <td>11.6</td>\n",
       "      <td>24</td>\n",
       "      <td>5.5</td>\n",
       "      <td>24</td>\n",
       "      <td>...</td>\n",
       "      <td>9.9</td>\n",
       "      <td>NaN</td>\n",
       "      <td>28.0</td>\n",
       "      <td></td>\n",
       "      <td>3.0</td>\n",
       "      <td></td>\n",
       "      <td>0.0</td>\n",
       "      <td>G</td>\n",
       "      <td>NaN</td>\n",
       "      <td>1000</td>\n",
       "    </tr>\n",
       "    <tr>\n",
       "      <th>1</th>\n",
       "      <td>72565003017</td>\n",
       "      <td>02/01/2018</td>\n",
       "      <td>39.8328</td>\n",
       "      <td>-104.6575</td>\n",
       "      <td>1650.2</td>\n",
       "      <td>DENVER INTERNATIONAL AIRPORT, CO US</td>\n",
       "      <td>21.2</td>\n",
       "      <td>24</td>\n",
       "      <td>7.3</td>\n",
       "      <td>24</td>\n",
       "      <td>...</td>\n",
       "      <td>9.9</td>\n",
       "      <td>NaN</td>\n",
       "      <td>43.0</td>\n",
       "      <td></td>\n",
       "      <td>3.0</td>\n",
       "      <td></td>\n",
       "      <td>0.0</td>\n",
       "      <td>G</td>\n",
       "      <td>NaN</td>\n",
       "      <td>0</td>\n",
       "    </tr>\n",
       "    <tr>\n",
       "      <th>2</th>\n",
       "      <td>72565003017</td>\n",
       "      <td>03/01/2018</td>\n",
       "      <td>39.8328</td>\n",
       "      <td>-104.6575</td>\n",
       "      <td>1650.2</td>\n",
       "      <td>DENVER INTERNATIONAL AIRPORT, CO US</td>\n",
       "      <td>31.8</td>\n",
       "      <td>24</td>\n",
       "      <td>3.0</td>\n",
       "      <td>24</td>\n",
       "      <td>...</td>\n",
       "      <td>15.9</td>\n",
       "      <td>24.1</td>\n",
       "      <td>53.1</td>\n",
       "      <td></td>\n",
       "      <td>10.9</td>\n",
       "      <td></td>\n",
       "      <td>0.0</td>\n",
       "      <td>G</td>\n",
       "      <td>NaN</td>\n",
       "      <td>0</td>\n",
       "    </tr>\n",
       "    <tr>\n",
       "      <th>3</th>\n",
       "      <td>72565003017</td>\n",
       "      <td>04/01/2018</td>\n",
       "      <td>39.8328</td>\n",
       "      <td>-104.6575</td>\n",
       "      <td>1650.2</td>\n",
       "      <td>DENVER INTERNATIONAL AIRPORT, CO US</td>\n",
       "      <td>34.6</td>\n",
       "      <td>24</td>\n",
       "      <td>11.6</td>\n",
       "      <td>24</td>\n",
       "      <td>...</td>\n",
       "      <td>8.9</td>\n",
       "      <td>NaN</td>\n",
       "      <td>53.1</td>\n",
       "      <td></td>\n",
       "      <td>17.1</td>\n",
       "      <td></td>\n",
       "      <td>0.0</td>\n",
       "      <td>G</td>\n",
       "      <td>NaN</td>\n",
       "      <td>0</td>\n",
       "    </tr>\n",
       "    <tr>\n",
       "      <th>4</th>\n",
       "      <td>72565003017</td>\n",
       "      <td>05/01/2018</td>\n",
       "      <td>39.8328</td>\n",
       "      <td>-104.6575</td>\n",
       "      <td>1650.2</td>\n",
       "      <td>DENVER INTERNATIONAL AIRPORT, CO US</td>\n",
       "      <td>36.3</td>\n",
       "      <td>24</td>\n",
       "      <td>11.4</td>\n",
       "      <td>24</td>\n",
       "      <td>...</td>\n",
       "      <td>14.0</td>\n",
       "      <td>NaN</td>\n",
       "      <td>55.9</td>\n",
       "      <td></td>\n",
       "      <td>23.0</td>\n",
       "      <td></td>\n",
       "      <td>0.0</td>\n",
       "      <td>G</td>\n",
       "      <td>NaN</td>\n",
       "      <td>0</td>\n",
       "    </tr>\n",
       "  </tbody>\n",
       "</table>\n",
       "<p>5 rows × 28 columns</p>\n",
       "</div>"
      ],
      "text/plain": [
       "       STATION        DATE  LATITUDE  LONGITUDE  ELEVATION  \\\n",
       "0  72565003017  01/01/2018   39.8328  -104.6575     1650.2   \n",
       "1  72565003017  02/01/2018   39.8328  -104.6575     1650.2   \n",
       "2  72565003017  03/01/2018   39.8328  -104.6575     1650.2   \n",
       "3  72565003017  04/01/2018   39.8328  -104.6575     1650.2   \n",
       "4  72565003017  05/01/2018   39.8328  -104.6575     1650.2   \n",
       "\n",
       "                                  NAME  TEMP  TEMP_ATTRIBUTES  DEWP  \\\n",
       "0  DENVER INTERNATIONAL AIRPORT, CO US  11.6               24   5.5   \n",
       "1  DENVER INTERNATIONAL AIRPORT, CO US  21.2               24   7.3   \n",
       "2  DENVER INTERNATIONAL AIRPORT, CO US  31.8               24   3.0   \n",
       "3  DENVER INTERNATIONAL AIRPORT, CO US  34.6               24  11.6   \n",
       "4  DENVER INTERNATIONAL AIRPORT, CO US  36.3               24  11.4   \n",
       "\n",
       "   DEWP_ATTRIBUTES  ...  MXSPD  GUST   MAX  MAX_ATTRIBUTES   MIN  \\\n",
       "0               24  ...    9.9   NaN  28.0                   3.0   \n",
       "1               24  ...    9.9   NaN  43.0                   3.0   \n",
       "2               24  ...   15.9  24.1  53.1                  10.9   \n",
       "3               24  ...    8.9   NaN  53.1                  17.1   \n",
       "4               24  ...   14.0   NaN  55.9                  23.0   \n",
       "\n",
       "   MIN_ATTRIBUTES  PRCP  PRCP_ATTRIBUTES  SNDP  FRSHTT  \n",
       "0                   0.0                G   NaN    1000  \n",
       "1                   0.0                G   NaN       0  \n",
       "2                   0.0                G   NaN       0  \n",
       "3                   0.0                G   NaN       0  \n",
       "4                   0.0                G   NaN       0  \n",
       "\n",
       "[5 rows x 28 columns]"
      ]
     },
     "execution_count": 34,
     "metadata": {},
     "output_type": "execute_result"
    }
   ],
   "source": [
    "df = pd.read_csv('data/sample.csv', sep=',', na_values=[9999.9, 999.9, 99.99])\n",
    "df.head()"
   ]
  },
  {
   "cell_type": "markdown",
   "metadata": {},
   "source": [
    "Great. The missing data is now represented by `NaN`.\n",
    "\n",
    "What data types did pandas infer?"
   ]
  },
  {
   "cell_type": "code",
   "execution_count": 35,
   "metadata": {},
   "outputs": [
    {
     "name": "stdout",
     "output_type": "stream",
     "text": [
      "<class 'pandas.core.frame.DataFrame'>\n",
      "RangeIndex: 365 entries, 0 to 364\n",
      "Data columns (total 28 columns):\n",
      " #   Column            Non-Null Count  Dtype  \n",
      "---  ------            --------------  -----  \n",
      " 0   STATION           365 non-null    int64  \n",
      " 1   DATE              365 non-null    object \n",
      " 2   LATITUDE          365 non-null    float64\n",
      " 3   LONGITUDE         365 non-null    float64\n",
      " 4   ELEVATION         365 non-null    float64\n",
      " 5   NAME              365 non-null    object \n",
      " 6   TEMP              365 non-null    float64\n",
      " 7   TEMP_ATTRIBUTES   365 non-null    int64  \n",
      " 8   DEWP              365 non-null    float64\n",
      " 9   DEWP_ATTRIBUTES   365 non-null    int64  \n",
      " 10  SLP               364 non-null    float64\n",
      " 11  SLP_ATTRIBUTES    365 non-null    int64  \n",
      " 12  STP               365 non-null    float64\n",
      " 13  STP_ATTRIBUTES    365 non-null    int64  \n",
      " 14  VISIB             365 non-null    float64\n",
      " 15  VISIB_ATTRIBUTES  365 non-null    int64  \n",
      " 16  WDSP              365 non-null    float64\n",
      " 17  WDSP_ATTRIBUTES   365 non-null    int64  \n",
      " 18  MXSPD             365 non-null    float64\n",
      " 19  GUST              255 non-null    float64\n",
      " 20  MAX               362 non-null    float64\n",
      " 21  MAX_ATTRIBUTES    365 non-null    object \n",
      " 22  MIN               365 non-null    float64\n",
      " 23  MIN_ATTRIBUTES    365 non-null    object \n",
      " 24  PRCP              365 non-null    float64\n",
      " 25  PRCP_ATTRIBUTES   365 non-null    object \n",
      " 26  SNDP              18 non-null     float64\n",
      " 27  FRSHTT            365 non-null    int64  \n",
      "dtypes: float64(15), int64(8), object(5)\n",
      "memory usage: 80.0+ KB\n"
     ]
    }
   ],
   "source": [
    "df.info()"
   ]
  },
  {
   "cell_type": "markdown",
   "metadata": {},
   "source": [
    "One problem here is that pandas did not recognize the `DATE` column as a date. Let's help it."
   ]
  },
  {
   "cell_type": "code",
   "execution_count": 36,
   "metadata": {},
   "outputs": [
    {
     "name": "stdout",
     "output_type": "stream",
     "text": [
      "<class 'pandas.core.frame.DataFrame'>\n",
      "RangeIndex: 365 entries, 0 to 364\n",
      "Data columns (total 28 columns):\n",
      " #   Column            Non-Null Count  Dtype         \n",
      "---  ------            --------------  -----         \n",
      " 0   STATION           365 non-null    int64         \n",
      " 1   DATE              365 non-null    datetime64[ns]\n",
      " 2   LATITUDE          365 non-null    float64       \n",
      " 3   LONGITUDE         365 non-null    float64       \n",
      " 4   ELEVATION         365 non-null    float64       \n",
      " 5   NAME              365 non-null    object        \n",
      " 6   TEMP              365 non-null    float64       \n",
      " 7   TEMP_ATTRIBUTES   365 non-null    int64         \n",
      " 8   DEWP              365 non-null    float64       \n",
      " 9   DEWP_ATTRIBUTES   365 non-null    int64         \n",
      " 10  SLP               364 non-null    float64       \n",
      " 11  SLP_ATTRIBUTES    365 non-null    int64         \n",
      " 12  STP               365 non-null    float64       \n",
      " 13  STP_ATTRIBUTES    365 non-null    int64         \n",
      " 14  VISIB             365 non-null    float64       \n",
      " 15  VISIB_ATTRIBUTES  365 non-null    int64         \n",
      " 16  WDSP              365 non-null    float64       \n",
      " 17  WDSP_ATTRIBUTES   365 non-null    int64         \n",
      " 18  MXSPD             365 non-null    float64       \n",
      " 19  GUST              255 non-null    float64       \n",
      " 20  MAX               362 non-null    float64       \n",
      " 21  MAX_ATTRIBUTES    365 non-null    object        \n",
      " 22  MIN               365 non-null    float64       \n",
      " 23  MIN_ATTRIBUTES    365 non-null    object        \n",
      " 24  PRCP              365 non-null    float64       \n",
      " 25  PRCP_ATTRIBUTES   365 non-null    object        \n",
      " 26  SNDP              18 non-null     float64       \n",
      " 27  FRSHTT            365 non-null    int64         \n",
      "dtypes: datetime64[ns](1), float64(15), int64(8), object(4)\n",
      "memory usage: 80.0+ KB\n"
     ]
    }
   ],
   "source": [
    "df = pd.read_csv('data/sample.csv', sep=',', na_values=[9999.9, 999.9, 99.99], parse_dates=[1])\n",
    "df.info()"
   ]
  },
  {
   "cell_type": "markdown",
   "metadata": {},
   "source": [
    "It worked! Finally, let's tell pandas to use the date column as the index with `set_index`. This way we can access all the values by time."
   ]
  },
  {
   "cell_type": "code",
   "execution_count": 37,
   "metadata": {},
   "outputs": [
    {
     "data": {
      "text/html": [
       "<div>\n",
       "<style scoped>\n",
       "    .dataframe tbody tr th:only-of-type {\n",
       "        vertical-align: middle;\n",
       "    }\n",
       "\n",
       "    .dataframe tbody tr th {\n",
       "        vertical-align: top;\n",
       "    }\n",
       "\n",
       "    .dataframe thead th {\n",
       "        text-align: right;\n",
       "    }\n",
       "</style>\n",
       "<table border=\"1\" class=\"dataframe\">\n",
       "  <thead>\n",
       "    <tr style=\"text-align: right;\">\n",
       "      <th></th>\n",
       "      <th>STATION</th>\n",
       "      <th>LATITUDE</th>\n",
       "      <th>LONGITUDE</th>\n",
       "      <th>ELEVATION</th>\n",
       "      <th>NAME</th>\n",
       "      <th>TEMP</th>\n",
       "      <th>TEMP_ATTRIBUTES</th>\n",
       "      <th>DEWP</th>\n",
       "      <th>DEWP_ATTRIBUTES</th>\n",
       "      <th>SLP</th>\n",
       "      <th>...</th>\n",
       "      <th>MXSPD</th>\n",
       "      <th>GUST</th>\n",
       "      <th>MAX</th>\n",
       "      <th>MAX_ATTRIBUTES</th>\n",
       "      <th>MIN</th>\n",
       "      <th>MIN_ATTRIBUTES</th>\n",
       "      <th>PRCP</th>\n",
       "      <th>PRCP_ATTRIBUTES</th>\n",
       "      <th>SNDP</th>\n",
       "      <th>FRSHTT</th>\n",
       "    </tr>\n",
       "    <tr>\n",
       "      <th>DATE</th>\n",
       "      <th></th>\n",
       "      <th></th>\n",
       "      <th></th>\n",
       "      <th></th>\n",
       "      <th></th>\n",
       "      <th></th>\n",
       "      <th></th>\n",
       "      <th></th>\n",
       "      <th></th>\n",
       "      <th></th>\n",
       "      <th></th>\n",
       "      <th></th>\n",
       "      <th></th>\n",
       "      <th></th>\n",
       "      <th></th>\n",
       "      <th></th>\n",
       "      <th></th>\n",
       "      <th></th>\n",
       "      <th></th>\n",
       "      <th></th>\n",
       "      <th></th>\n",
       "    </tr>\n",
       "  </thead>\n",
       "  <tbody>\n",
       "    <tr>\n",
       "      <th>2018-01-01</th>\n",
       "      <td>72565003017</td>\n",
       "      <td>39.8328</td>\n",
       "      <td>-104.6575</td>\n",
       "      <td>1650.2</td>\n",
       "      <td>DENVER INTERNATIONAL AIRPORT, CO US</td>\n",
       "      <td>11.6</td>\n",
       "      <td>24</td>\n",
       "      <td>5.5</td>\n",
       "      <td>24</td>\n",
       "      <td>1030.9</td>\n",
       "      <td>...</td>\n",
       "      <td>9.9</td>\n",
       "      <td>NaN</td>\n",
       "      <td>28.0</td>\n",
       "      <td></td>\n",
       "      <td>3.0</td>\n",
       "      <td></td>\n",
       "      <td>0.0</td>\n",
       "      <td>G</td>\n",
       "      <td>NaN</td>\n",
       "      <td>1000</td>\n",
       "    </tr>\n",
       "    <tr>\n",
       "      <th>2018-02-01</th>\n",
       "      <td>72565003017</td>\n",
       "      <td>39.8328</td>\n",
       "      <td>-104.6575</td>\n",
       "      <td>1650.2</td>\n",
       "      <td>DENVER INTERNATIONAL AIRPORT, CO US</td>\n",
       "      <td>21.2</td>\n",
       "      <td>24</td>\n",
       "      <td>7.3</td>\n",
       "      <td>24</td>\n",
       "      <td>1029.4</td>\n",
       "      <td>...</td>\n",
       "      <td>9.9</td>\n",
       "      <td>NaN</td>\n",
       "      <td>43.0</td>\n",
       "      <td></td>\n",
       "      <td>3.0</td>\n",
       "      <td></td>\n",
       "      <td>0.0</td>\n",
       "      <td>G</td>\n",
       "      <td>NaN</td>\n",
       "      <td>0</td>\n",
       "    </tr>\n",
       "    <tr>\n",
       "      <th>2018-03-01</th>\n",
       "      <td>72565003017</td>\n",
       "      <td>39.8328</td>\n",
       "      <td>-104.6575</td>\n",
       "      <td>1650.2</td>\n",
       "      <td>DENVER INTERNATIONAL AIRPORT, CO US</td>\n",
       "      <td>31.8</td>\n",
       "      <td>24</td>\n",
       "      <td>3.0</td>\n",
       "      <td>24</td>\n",
       "      <td>1026.7</td>\n",
       "      <td>...</td>\n",
       "      <td>15.9</td>\n",
       "      <td>24.1</td>\n",
       "      <td>53.1</td>\n",
       "      <td></td>\n",
       "      <td>10.9</td>\n",
       "      <td></td>\n",
       "      <td>0.0</td>\n",
       "      <td>G</td>\n",
       "      <td>NaN</td>\n",
       "      <td>0</td>\n",
       "    </tr>\n",
       "    <tr>\n",
       "      <th>2018-04-01</th>\n",
       "      <td>72565003017</td>\n",
       "      <td>39.8328</td>\n",
       "      <td>-104.6575</td>\n",
       "      <td>1650.2</td>\n",
       "      <td>DENVER INTERNATIONAL AIRPORT, CO US</td>\n",
       "      <td>34.6</td>\n",
       "      <td>24</td>\n",
       "      <td>11.6</td>\n",
       "      <td>24</td>\n",
       "      <td>1022.0</td>\n",
       "      <td>...</td>\n",
       "      <td>8.9</td>\n",
       "      <td>NaN</td>\n",
       "      <td>53.1</td>\n",
       "      <td></td>\n",
       "      <td>17.1</td>\n",
       "      <td></td>\n",
       "      <td>0.0</td>\n",
       "      <td>G</td>\n",
       "      <td>NaN</td>\n",
       "      <td>0</td>\n",
       "    </tr>\n",
       "    <tr>\n",
       "      <th>2018-05-01</th>\n",
       "      <td>72565003017</td>\n",
       "      <td>39.8328</td>\n",
       "      <td>-104.6575</td>\n",
       "      <td>1650.2</td>\n",
       "      <td>DENVER INTERNATIONAL AIRPORT, CO US</td>\n",
       "      <td>36.3</td>\n",
       "      <td>24</td>\n",
       "      <td>11.4</td>\n",
       "      <td>24</td>\n",
       "      <td>1020.9</td>\n",
       "      <td>...</td>\n",
       "      <td>14.0</td>\n",
       "      <td>NaN</td>\n",
       "      <td>55.9</td>\n",
       "      <td></td>\n",
       "      <td>23.0</td>\n",
       "      <td></td>\n",
       "      <td>0.0</td>\n",
       "      <td>G</td>\n",
       "      <td>NaN</td>\n",
       "      <td>0</td>\n",
       "    </tr>\n",
       "  </tbody>\n",
       "</table>\n",
       "<p>5 rows × 27 columns</p>\n",
       "</div>"
      ],
      "text/plain": [
       "                STATION  LATITUDE  LONGITUDE  ELEVATION  \\\n",
       "DATE                                                      \n",
       "2018-01-01  72565003017   39.8328  -104.6575     1650.2   \n",
       "2018-02-01  72565003017   39.8328  -104.6575     1650.2   \n",
       "2018-03-01  72565003017   39.8328  -104.6575     1650.2   \n",
       "2018-04-01  72565003017   39.8328  -104.6575     1650.2   \n",
       "2018-05-01  72565003017   39.8328  -104.6575     1650.2   \n",
       "\n",
       "                                           NAME  TEMP  TEMP_ATTRIBUTES  DEWP  \\\n",
       "DATE                                                                           \n",
       "2018-01-01  DENVER INTERNATIONAL AIRPORT, CO US  11.6               24   5.5   \n",
       "2018-02-01  DENVER INTERNATIONAL AIRPORT, CO US  21.2               24   7.3   \n",
       "2018-03-01  DENVER INTERNATIONAL AIRPORT, CO US  31.8               24   3.0   \n",
       "2018-04-01  DENVER INTERNATIONAL AIRPORT, CO US  34.6               24  11.6   \n",
       "2018-05-01  DENVER INTERNATIONAL AIRPORT, CO US  36.3               24  11.4   \n",
       "\n",
       "            DEWP_ATTRIBUTES     SLP  ...  MXSPD  GUST   MAX  MAX_ATTRIBUTES  \\\n",
       "DATE                                 ...                                      \n",
       "2018-01-01               24  1030.9  ...    9.9   NaN  28.0                   \n",
       "2018-02-01               24  1029.4  ...    9.9   NaN  43.0                   \n",
       "2018-03-01               24  1026.7  ...   15.9  24.1  53.1                   \n",
       "2018-04-01               24  1022.0  ...    8.9   NaN  53.1                   \n",
       "2018-05-01               24  1020.9  ...   14.0   NaN  55.9                   \n",
       "\n",
       "             MIN  MIN_ATTRIBUTES  PRCP  PRCP_ATTRIBUTES  SNDP  FRSHTT  \n",
       "DATE                                                                   \n",
       "2018-01-01   3.0                   0.0                G   NaN    1000  \n",
       "2018-02-01   3.0                   0.0                G   NaN       0  \n",
       "2018-03-01  10.9                   0.0                G   NaN       0  \n",
       "2018-04-01  17.1                   0.0                G   NaN       0  \n",
       "2018-05-01  23.0                   0.0                G   NaN       0  \n",
       "\n",
       "[5 rows x 27 columns]"
      ]
     },
     "execution_count": 37,
     "metadata": {},
     "output_type": "execute_result"
    }
   ],
   "source": [
    "df = df.set_index('DATE')\n",
    "df.head()"
   ]
  },
  {
   "cell_type": "markdown",
   "metadata": {},
   "source": [
    "For example, we can easily get all the measurements at one single day."
   ]
  },
  {
   "cell_type": "code",
   "execution_count": 40,
   "metadata": {},
   "outputs": [
    {
     "data": {
      "text/html": [
       "<div>\n",
       "<style scoped>\n",
       "    .dataframe tbody tr th:only-of-type {\n",
       "        vertical-align: middle;\n",
       "    }\n",
       "\n",
       "    .dataframe tbody tr th {\n",
       "        vertical-align: top;\n",
       "    }\n",
       "\n",
       "    .dataframe thead th {\n",
       "        text-align: right;\n",
       "    }\n",
       "</style>\n",
       "<table border=\"1\" class=\"dataframe\">\n",
       "  <thead>\n",
       "    <tr style=\"text-align: right;\">\n",
       "      <th></th>\n",
       "      <th>STATION</th>\n",
       "      <th>LATITUDE</th>\n",
       "      <th>LONGITUDE</th>\n",
       "      <th>ELEVATION</th>\n",
       "      <th>NAME</th>\n",
       "      <th>TEMP</th>\n",
       "      <th>TEMP_ATTRIBUTES</th>\n",
       "      <th>DEWP</th>\n",
       "      <th>DEWP_ATTRIBUTES</th>\n",
       "      <th>SLP</th>\n",
       "      <th>...</th>\n",
       "      <th>MXSPD</th>\n",
       "      <th>GUST</th>\n",
       "      <th>MAX</th>\n",
       "      <th>MAX_ATTRIBUTES</th>\n",
       "      <th>MIN</th>\n",
       "      <th>MIN_ATTRIBUTES</th>\n",
       "      <th>PRCP</th>\n",
       "      <th>PRCP_ATTRIBUTES</th>\n",
       "      <th>SNDP</th>\n",
       "      <th>FRSHTT</th>\n",
       "    </tr>\n",
       "    <tr>\n",
       "      <th>DATE</th>\n",
       "      <th></th>\n",
       "      <th></th>\n",
       "      <th></th>\n",
       "      <th></th>\n",
       "      <th></th>\n",
       "      <th></th>\n",
       "      <th></th>\n",
       "      <th></th>\n",
       "      <th></th>\n",
       "      <th></th>\n",
       "      <th></th>\n",
       "      <th></th>\n",
       "      <th></th>\n",
       "      <th></th>\n",
       "      <th></th>\n",
       "      <th></th>\n",
       "      <th></th>\n",
       "      <th></th>\n",
       "      <th></th>\n",
       "      <th></th>\n",
       "      <th></th>\n",
       "    </tr>\n",
       "  </thead>\n",
       "  <tbody>\n",
       "    <tr>\n",
       "      <th>2018-08-07</th>\n",
       "      <td>72565003017</td>\n",
       "      <td>39.8328</td>\n",
       "      <td>-104.6575</td>\n",
       "      <td>1650.2</td>\n",
       "      <td>DENVER INTERNATIONAL AIRPORT, CO US</td>\n",
       "      <td>81.8</td>\n",
       "      <td>24</td>\n",
       "      <td>48.2</td>\n",
       "      <td>24</td>\n",
       "      <td>1012.6</td>\n",
       "      <td>...</td>\n",
       "      <td>26.0</td>\n",
       "      <td>35.0</td>\n",
       "      <td>98.1</td>\n",
       "      <td></td>\n",
       "      <td>62.1</td>\n",
       "      <td></td>\n",
       "      <td>0.0</td>\n",
       "      <td>G</td>\n",
       "      <td>NaN</td>\n",
       "      <td>0</td>\n",
       "    </tr>\n",
       "  </tbody>\n",
       "</table>\n",
       "<p>1 rows × 27 columns</p>\n",
       "</div>"
      ],
      "text/plain": [
       "                STATION  LATITUDE  LONGITUDE  ELEVATION  \\\n",
       "DATE                                                      \n",
       "2018-08-07  72565003017   39.8328  -104.6575     1650.2   \n",
       "\n",
       "                                           NAME  TEMP  TEMP_ATTRIBUTES  DEWP  \\\n",
       "DATE                                                                           \n",
       "2018-08-07  DENVER INTERNATIONAL AIRPORT, CO US  81.8               24  48.2   \n",
       "\n",
       "            DEWP_ATTRIBUTES     SLP  ...  MXSPD  GUST   MAX  MAX_ATTRIBUTES  \\\n",
       "DATE                                 ...                                      \n",
       "2018-08-07               24  1012.6  ...   26.0  35.0  98.1                   \n",
       "\n",
       "             MIN  MIN_ATTRIBUTES  PRCP  PRCP_ATTRIBUTES  SNDP  FRSHTT  \n",
       "DATE                                                                   \n",
       "2018-08-07  62.1                   0.0                G   NaN       0  \n",
       "\n",
       "[1 rows x 27 columns]"
      ]
     },
     "execution_count": 40,
     "metadata": {},
     "output_type": "execute_result"
    }
   ],
   "source": [
    "df.loc['2018-08-07']"
   ]
  },
  {
   "cell_type": "markdown",
   "metadata": {},
   "source": [
    "Or use slicing to get a range:"
   ]
  },
  {
   "cell_type": "code",
   "execution_count": 42,
   "metadata": {},
   "outputs": [
    {
     "data": {
      "text/html": [
       "<div>\n",
       "<style scoped>\n",
       "    .dataframe tbody tr th:only-of-type {\n",
       "        vertical-align: middle;\n",
       "    }\n",
       "\n",
       "    .dataframe tbody tr th {\n",
       "        vertical-align: top;\n",
       "    }\n",
       "\n",
       "    .dataframe thead th {\n",
       "        text-align: right;\n",
       "    }\n",
       "</style>\n",
       "<table border=\"1\" class=\"dataframe\">\n",
       "  <thead>\n",
       "    <tr style=\"text-align: right;\">\n",
       "      <th></th>\n",
       "      <th>STATION</th>\n",
       "      <th>LATITUDE</th>\n",
       "      <th>LONGITUDE</th>\n",
       "      <th>ELEVATION</th>\n",
       "      <th>NAME</th>\n",
       "      <th>TEMP</th>\n",
       "      <th>TEMP_ATTRIBUTES</th>\n",
       "      <th>DEWP</th>\n",
       "      <th>DEWP_ATTRIBUTES</th>\n",
       "      <th>SLP</th>\n",
       "      <th>...</th>\n",
       "      <th>MXSPD</th>\n",
       "      <th>GUST</th>\n",
       "      <th>MAX</th>\n",
       "      <th>MAX_ATTRIBUTES</th>\n",
       "      <th>MIN</th>\n",
       "      <th>MIN_ATTRIBUTES</th>\n",
       "      <th>PRCP</th>\n",
       "      <th>PRCP_ATTRIBUTES</th>\n",
       "      <th>SNDP</th>\n",
       "      <th>FRSHTT</th>\n",
       "    </tr>\n",
       "    <tr>\n",
       "      <th>DATE</th>\n",
       "      <th></th>\n",
       "      <th></th>\n",
       "      <th></th>\n",
       "      <th></th>\n",
       "      <th></th>\n",
       "      <th></th>\n",
       "      <th></th>\n",
       "      <th></th>\n",
       "      <th></th>\n",
       "      <th></th>\n",
       "      <th></th>\n",
       "      <th></th>\n",
       "      <th></th>\n",
       "      <th></th>\n",
       "      <th></th>\n",
       "      <th></th>\n",
       "      <th></th>\n",
       "      <th></th>\n",
       "      <th></th>\n",
       "      <th></th>\n",
       "      <th></th>\n",
       "    </tr>\n",
       "  </thead>\n",
       "  <tbody>\n",
       "    <tr>\n",
       "      <th>2018-07-01</th>\n",
       "      <td>72565003017</td>\n",
       "      <td>39.8328</td>\n",
       "      <td>-104.6575</td>\n",
       "      <td>1650.2</td>\n",
       "      <td>DENVER INTERNATIONAL AIRPORT, CO US</td>\n",
       "      <td>39.8</td>\n",
       "      <td>24</td>\n",
       "      <td>25.2</td>\n",
       "      <td>24</td>\n",
       "      <td>1013.0</td>\n",
       "      <td>...</td>\n",
       "      <td>11.1</td>\n",
       "      <td>NaN</td>\n",
       "      <td>62.1</td>\n",
       "      <td></td>\n",
       "      <td>26.1</td>\n",
       "      <td></td>\n",
       "      <td>0.01</td>\n",
       "      <td>G</td>\n",
       "      <td>NaN</td>\n",
       "      <td>11000</td>\n",
       "    </tr>\n",
       "    <tr>\n",
       "      <th>2018-07-02</th>\n",
       "      <td>72565003017</td>\n",
       "      <td>39.8328</td>\n",
       "      <td>-104.6575</td>\n",
       "      <td>1650.2</td>\n",
       "      <td>DENVER INTERNATIONAL AIRPORT, CO US</td>\n",
       "      <td>33.1</td>\n",
       "      <td>24</td>\n",
       "      <td>19.6</td>\n",
       "      <td>24</td>\n",
       "      <td>1022.0</td>\n",
       "      <td>...</td>\n",
       "      <td>11.1</td>\n",
       "      <td>NaN</td>\n",
       "      <td>53.1</td>\n",
       "      <td></td>\n",
       "      <td>16.0</td>\n",
       "      <td></td>\n",
       "      <td>0.00</td>\n",
       "      <td>G</td>\n",
       "      <td>NaN</td>\n",
       "      <td>100000</td>\n",
       "    </tr>\n",
       "    <tr>\n",
       "      <th>2018-07-03</th>\n",
       "      <td>72565003017</td>\n",
       "      <td>39.8328</td>\n",
       "      <td>-104.6575</td>\n",
       "      <td>1650.2</td>\n",
       "      <td>DENVER INTERNATIONAL AIRPORT, CO US</td>\n",
       "      <td>30.1</td>\n",
       "      <td>24</td>\n",
       "      <td>6.8</td>\n",
       "      <td>24</td>\n",
       "      <td>1023.6</td>\n",
       "      <td>...</td>\n",
       "      <td>13.0</td>\n",
       "      <td>21.0</td>\n",
       "      <td>51.1</td>\n",
       "      <td></td>\n",
       "      <td>12.9</td>\n",
       "      <td></td>\n",
       "      <td>0.00</td>\n",
       "      <td>G</td>\n",
       "      <td>NaN</td>\n",
       "      <td>0</td>\n",
       "    </tr>\n",
       "    <tr>\n",
       "      <th>2018-07-04</th>\n",
       "      <td>72565003017</td>\n",
       "      <td>39.8328</td>\n",
       "      <td>-104.6575</td>\n",
       "      <td>1650.2</td>\n",
       "      <td>DENVER INTERNATIONAL AIRPORT, CO US</td>\n",
       "      <td>31.0</td>\n",
       "      <td>24</td>\n",
       "      <td>23.9</td>\n",
       "      <td>24</td>\n",
       "      <td>1015.4</td>\n",
       "      <td>...</td>\n",
       "      <td>14.0</td>\n",
       "      <td>17.1</td>\n",
       "      <td>57.9</td>\n",
       "      <td></td>\n",
       "      <td>21.0</td>\n",
       "      <td></td>\n",
       "      <td>0.05</td>\n",
       "      <td>G</td>\n",
       "      <td>NaN</td>\n",
       "      <td>1000</td>\n",
       "    </tr>\n",
       "    <tr>\n",
       "      <th>2018-07-05</th>\n",
       "      <td>72565003017</td>\n",
       "      <td>39.8328</td>\n",
       "      <td>-104.6575</td>\n",
       "      <td>1650.2</td>\n",
       "      <td>DENVER INTERNATIONAL AIRPORT, CO US</td>\n",
       "      <td>64.9</td>\n",
       "      <td>24</td>\n",
       "      <td>37.2</td>\n",
       "      <td>24</td>\n",
       "      <td>1014.9</td>\n",
       "      <td>...</td>\n",
       "      <td>15.9</td>\n",
       "      <td>19.0</td>\n",
       "      <td>80.1</td>\n",
       "      <td></td>\n",
       "      <td>46.9</td>\n",
       "      <td></td>\n",
       "      <td>0.00</td>\n",
       "      <td>G</td>\n",
       "      <td>NaN</td>\n",
       "      <td>0</td>\n",
       "    </tr>\n",
       "    <tr>\n",
       "      <th>2018-07-06</th>\n",
       "      <td>72565003017</td>\n",
       "      <td>39.8328</td>\n",
       "      <td>-104.6575</td>\n",
       "      <td>1650.2</td>\n",
       "      <td>DENVER INTERNATIONAL AIRPORT, CO US</td>\n",
       "      <td>76.5</td>\n",
       "      <td>24</td>\n",
       "      <td>39.3</td>\n",
       "      <td>24</td>\n",
       "      <td>1007.1</td>\n",
       "      <td>...</td>\n",
       "      <td>27.0</td>\n",
       "      <td>42.9</td>\n",
       "      <td>95.0</td>\n",
       "      <td></td>\n",
       "      <td>57.9</td>\n",
       "      <td></td>\n",
       "      <td>0.00</td>\n",
       "      <td>G</td>\n",
       "      <td>NaN</td>\n",
       "      <td>10010</td>\n",
       "    </tr>\n",
       "    <tr>\n",
       "      <th>2018-07-07</th>\n",
       "      <td>72565003017</td>\n",
       "      <td>39.8328</td>\n",
       "      <td>-104.6575</td>\n",
       "      <td>1650.2</td>\n",
       "      <td>DENVER INTERNATIONAL AIRPORT, CO US</td>\n",
       "      <td>80.7</td>\n",
       "      <td>24</td>\n",
       "      <td>50.1</td>\n",
       "      <td>24</td>\n",
       "      <td>1016.1</td>\n",
       "      <td>...</td>\n",
       "      <td>15.9</td>\n",
       "      <td>27.0</td>\n",
       "      <td>98.1</td>\n",
       "      <td></td>\n",
       "      <td>60.1</td>\n",
       "      <td></td>\n",
       "      <td>0.00</td>\n",
       "      <td>G</td>\n",
       "      <td>NaN</td>\n",
       "      <td>0</td>\n",
       "    </tr>\n",
       "    <tr>\n",
       "      <th>2018-07-13</th>\n",
       "      <td>72565003017</td>\n",
       "      <td>39.8328</td>\n",
       "      <td>-104.6575</td>\n",
       "      <td>1650.2</td>\n",
       "      <td>DENVER INTERNATIONAL AIRPORT, CO US</td>\n",
       "      <td>73.4</td>\n",
       "      <td>24</td>\n",
       "      <td>53.6</td>\n",
       "      <td>24</td>\n",
       "      <td>1015.9</td>\n",
       "      <td>...</td>\n",
       "      <td>18.1</td>\n",
       "      <td>NaN</td>\n",
       "      <td>90.0</td>\n",
       "      <td></td>\n",
       "      <td>61.0</td>\n",
       "      <td></td>\n",
       "      <td>0.00</td>\n",
       "      <td>G</td>\n",
       "      <td>NaN</td>\n",
       "      <td>0</td>\n",
       "    </tr>\n",
       "    <tr>\n",
       "      <th>2018-07-14</th>\n",
       "      <td>72565003017</td>\n",
       "      <td>39.8328</td>\n",
       "      <td>-104.6575</td>\n",
       "      <td>1650.2</td>\n",
       "      <td>DENVER INTERNATIONAL AIRPORT, CO US</td>\n",
       "      <td>79.7</td>\n",
       "      <td>24</td>\n",
       "      <td>49.1</td>\n",
       "      <td>24</td>\n",
       "      <td>1013.7</td>\n",
       "      <td>...</td>\n",
       "      <td>13.0</td>\n",
       "      <td>22.0</td>\n",
       "      <td>97.0</td>\n",
       "      <td></td>\n",
       "      <td>61.0</td>\n",
       "      <td></td>\n",
       "      <td>0.00</td>\n",
       "      <td>G</td>\n",
       "      <td>NaN</td>\n",
       "      <td>0</td>\n",
       "    </tr>\n",
       "    <tr>\n",
       "      <th>2018-07-15</th>\n",
       "      <td>72565003017</td>\n",
       "      <td>39.8328</td>\n",
       "      <td>-104.6575</td>\n",
       "      <td>1650.2</td>\n",
       "      <td>DENVER INTERNATIONAL AIRPORT, CO US</td>\n",
       "      <td>73.6</td>\n",
       "      <td>24</td>\n",
       "      <td>54.2</td>\n",
       "      <td>24</td>\n",
       "      <td>1013.4</td>\n",
       "      <td>...</td>\n",
       "      <td>24.1</td>\n",
       "      <td>32.1</td>\n",
       "      <td>97.0</td>\n",
       "      <td></td>\n",
       "      <td>64.0</td>\n",
       "      <td></td>\n",
       "      <td>0.00</td>\n",
       "      <td>G</td>\n",
       "      <td>NaN</td>\n",
       "      <td>10000</td>\n",
       "    </tr>\n",
       "    <tr>\n",
       "      <th>2018-07-16</th>\n",
       "      <td>72565003017</td>\n",
       "      <td>39.8328</td>\n",
       "      <td>-104.6575</td>\n",
       "      <td>1650.2</td>\n",
       "      <td>DENVER INTERNATIONAL AIRPORT, CO US</td>\n",
       "      <td>67.7</td>\n",
       "      <td>24</td>\n",
       "      <td>58.5</td>\n",
       "      <td>24</td>\n",
       "      <td>1017.3</td>\n",
       "      <td>...</td>\n",
       "      <td>9.9</td>\n",
       "      <td>NaN</td>\n",
       "      <td>91.0</td>\n",
       "      <td></td>\n",
       "      <td>59.0</td>\n",
       "      <td></td>\n",
       "      <td>0.21</td>\n",
       "      <td>G</td>\n",
       "      <td>NaN</td>\n",
       "      <td>110000</td>\n",
       "    </tr>\n",
       "    <tr>\n",
       "      <th>2018-07-17</th>\n",
       "      <td>72565003017</td>\n",
       "      <td>39.8328</td>\n",
       "      <td>-104.6575</td>\n",
       "      <td>1650.2</td>\n",
       "      <td>DENVER INTERNATIONAL AIRPORT, CO US</td>\n",
       "      <td>72.1</td>\n",
       "      <td>24</td>\n",
       "      <td>58.2</td>\n",
       "      <td>24</td>\n",
       "      <td>1015.5</td>\n",
       "      <td>...</td>\n",
       "      <td>24.1</td>\n",
       "      <td>29.9</td>\n",
       "      <td>91.0</td>\n",
       "      <td></td>\n",
       "      <td>59.0</td>\n",
       "      <td></td>\n",
       "      <td>0.07</td>\n",
       "      <td>G</td>\n",
       "      <td>NaN</td>\n",
       "      <td>10010</td>\n",
       "    </tr>\n",
       "    <tr>\n",
       "      <th>2018-07-18</th>\n",
       "      <td>72565003017</td>\n",
       "      <td>39.8328</td>\n",
       "      <td>-104.6575</td>\n",
       "      <td>1650.2</td>\n",
       "      <td>DENVER INTERNATIONAL AIRPORT, CO US</td>\n",
       "      <td>76.3</td>\n",
       "      <td>24</td>\n",
       "      <td>51.0</td>\n",
       "      <td>24</td>\n",
       "      <td>1012.8</td>\n",
       "      <td>...</td>\n",
       "      <td>19.0</td>\n",
       "      <td>22.9</td>\n",
       "      <td>95.0</td>\n",
       "      <td></td>\n",
       "      <td>60.1</td>\n",
       "      <td></td>\n",
       "      <td>0.00</td>\n",
       "      <td>G</td>\n",
       "      <td>NaN</td>\n",
       "      <td>0</td>\n",
       "    </tr>\n",
       "    <tr>\n",
       "      <th>2018-07-19</th>\n",
       "      <td>72565003017</td>\n",
       "      <td>39.8328</td>\n",
       "      <td>-104.6575</td>\n",
       "      <td>1650.2</td>\n",
       "      <td>DENVER INTERNATIONAL AIRPORT, CO US</td>\n",
       "      <td>80.7</td>\n",
       "      <td>24</td>\n",
       "      <td>44.5</td>\n",
       "      <td>24</td>\n",
       "      <td>1010.6</td>\n",
       "      <td>...</td>\n",
       "      <td>11.1</td>\n",
       "      <td>15.9</td>\n",
       "      <td>98.1</td>\n",
       "      <td></td>\n",
       "      <td>63.0</td>\n",
       "      <td></td>\n",
       "      <td>0.00</td>\n",
       "      <td>G</td>\n",
       "      <td>NaN</td>\n",
       "      <td>0</td>\n",
       "    </tr>\n",
       "    <tr>\n",
       "      <th>2018-07-20</th>\n",
       "      <td>72565003017</td>\n",
       "      <td>39.8328</td>\n",
       "      <td>-104.6575</td>\n",
       "      <td>1650.2</td>\n",
       "      <td>DENVER INTERNATIONAL AIRPORT, CO US</td>\n",
       "      <td>80.7</td>\n",
       "      <td>24</td>\n",
       "      <td>47.3</td>\n",
       "      <td>24</td>\n",
       "      <td>1009.7</td>\n",
       "      <td>...</td>\n",
       "      <td>13.0</td>\n",
       "      <td>24.1</td>\n",
       "      <td>98.1</td>\n",
       "      <td></td>\n",
       "      <td>64.0</td>\n",
       "      <td></td>\n",
       "      <td>0.00</td>\n",
       "      <td>G</td>\n",
       "      <td>NaN</td>\n",
       "      <td>0</td>\n",
       "    </tr>\n",
       "    <tr>\n",
       "      <th>2018-07-21</th>\n",
       "      <td>72565003017</td>\n",
       "      <td>39.8328</td>\n",
       "      <td>-104.6575</td>\n",
       "      <td>1650.2</td>\n",
       "      <td>DENVER INTERNATIONAL AIRPORT, CO US</td>\n",
       "      <td>82.3</td>\n",
       "      <td>24</td>\n",
       "      <td>45.6</td>\n",
       "      <td>24</td>\n",
       "      <td>1011.1</td>\n",
       "      <td>...</td>\n",
       "      <td>21.0</td>\n",
       "      <td>29.9</td>\n",
       "      <td>97.0</td>\n",
       "      <td></td>\n",
       "      <td>66.0</td>\n",
       "      <td></td>\n",
       "      <td>0.00</td>\n",
       "      <td>G</td>\n",
       "      <td>NaN</td>\n",
       "      <td>0</td>\n",
       "    </tr>\n",
       "    <tr>\n",
       "      <th>2018-07-22</th>\n",
       "      <td>72565003017</td>\n",
       "      <td>39.8328</td>\n",
       "      <td>-104.6575</td>\n",
       "      <td>1650.2</td>\n",
       "      <td>DENVER INTERNATIONAL AIRPORT, CO US</td>\n",
       "      <td>81.2</td>\n",
       "      <td>24</td>\n",
       "      <td>50.8</td>\n",
       "      <td>24</td>\n",
       "      <td>1012.0</td>\n",
       "      <td>...</td>\n",
       "      <td>20.0</td>\n",
       "      <td>28.0</td>\n",
       "      <td>97.0</td>\n",
       "      <td></td>\n",
       "      <td>68.0</td>\n",
       "      <td></td>\n",
       "      <td>0.00</td>\n",
       "      <td>G</td>\n",
       "      <td>NaN</td>\n",
       "      <td>10000</td>\n",
       "    </tr>\n",
       "    <tr>\n",
       "      <th>2018-07-23</th>\n",
       "      <td>72565003017</td>\n",
       "      <td>39.8328</td>\n",
       "      <td>-104.6575</td>\n",
       "      <td>1650.2</td>\n",
       "      <td>DENVER INTERNATIONAL AIRPORT, CO US</td>\n",
       "      <td>71.7</td>\n",
       "      <td>24</td>\n",
       "      <td>57.6</td>\n",
       "      <td>24</td>\n",
       "      <td>1019.4</td>\n",
       "      <td>...</td>\n",
       "      <td>19.0</td>\n",
       "      <td>25.1</td>\n",
       "      <td>95.0</td>\n",
       "      <td></td>\n",
       "      <td>63.0</td>\n",
       "      <td></td>\n",
       "      <td>0.00</td>\n",
       "      <td>G</td>\n",
       "      <td>NaN</td>\n",
       "      <td>10010</td>\n",
       "    </tr>\n",
       "    <tr>\n",
       "      <th>2018-07-24</th>\n",
       "      <td>72565003017</td>\n",
       "      <td>39.8328</td>\n",
       "      <td>-104.6575</td>\n",
       "      <td>1650.2</td>\n",
       "      <td>DENVER INTERNATIONAL AIRPORT, CO US</td>\n",
       "      <td>70.7</td>\n",
       "      <td>24</td>\n",
       "      <td>61.5</td>\n",
       "      <td>24</td>\n",
       "      <td>1018.5</td>\n",
       "      <td>...</td>\n",
       "      <td>20.0</td>\n",
       "      <td>27.0</td>\n",
       "      <td>90.0</td>\n",
       "      <td></td>\n",
       "      <td>63.0</td>\n",
       "      <td></td>\n",
       "      <td>0.43</td>\n",
       "      <td>G</td>\n",
       "      <td>NaN</td>\n",
       "      <td>10010</td>\n",
       "    </tr>\n",
       "    <tr>\n",
       "      <th>2018-07-25</th>\n",
       "      <td>72565003017</td>\n",
       "      <td>39.8328</td>\n",
       "      <td>-104.6575</td>\n",
       "      <td>1650.2</td>\n",
       "      <td>DENVER INTERNATIONAL AIRPORT, CO US</td>\n",
       "      <td>71.6</td>\n",
       "      <td>24</td>\n",
       "      <td>58.8</td>\n",
       "      <td>24</td>\n",
       "      <td>1016.2</td>\n",
       "      <td>...</td>\n",
       "      <td>25.1</td>\n",
       "      <td>33.0</td>\n",
       "      <td>90.0</td>\n",
       "      <td></td>\n",
       "      <td>63.0</td>\n",
       "      <td></td>\n",
       "      <td>0.13</td>\n",
       "      <td>G</td>\n",
       "      <td>NaN</td>\n",
       "      <td>10010</td>\n",
       "    </tr>\n",
       "    <tr>\n",
       "      <th>2018-07-26</th>\n",
       "      <td>72565003017</td>\n",
       "      <td>39.8328</td>\n",
       "      <td>-104.6575</td>\n",
       "      <td>1650.2</td>\n",
       "      <td>DENVER INTERNATIONAL AIRPORT, CO US</td>\n",
       "      <td>67.5</td>\n",
       "      <td>24</td>\n",
       "      <td>57.1</td>\n",
       "      <td>24</td>\n",
       "      <td>1019.3</td>\n",
       "      <td>...</td>\n",
       "      <td>18.1</td>\n",
       "      <td>26.0</td>\n",
       "      <td>82.9</td>\n",
       "      <td></td>\n",
       "      <td>60.1</td>\n",
       "      <td></td>\n",
       "      <td>0.11</td>\n",
       "      <td>G</td>\n",
       "      <td>NaN</td>\n",
       "      <td>10010</td>\n",
       "    </tr>\n",
       "    <tr>\n",
       "      <th>2018-07-27</th>\n",
       "      <td>72565003017</td>\n",
       "      <td>39.8328</td>\n",
       "      <td>-104.6575</td>\n",
       "      <td>1650.2</td>\n",
       "      <td>DENVER INTERNATIONAL AIRPORT, CO US</td>\n",
       "      <td>68.5</td>\n",
       "      <td>24</td>\n",
       "      <td>55.9</td>\n",
       "      <td>24</td>\n",
       "      <td>1016.6</td>\n",
       "      <td>...</td>\n",
       "      <td>27.0</td>\n",
       "      <td>40.0</td>\n",
       "      <td>82.0</td>\n",
       "      <td>*</td>\n",
       "      <td>57.2</td>\n",
       "      <td>*</td>\n",
       "      <td>0.05</td>\n",
       "      <td>G</td>\n",
       "      <td>NaN</td>\n",
       "      <td>10010</td>\n",
       "    </tr>\n",
       "    <tr>\n",
       "      <th>2018-07-28</th>\n",
       "      <td>72565003017</td>\n",
       "      <td>39.8328</td>\n",
       "      <td>-104.6575</td>\n",
       "      <td>1650.2</td>\n",
       "      <td>DENVER INTERNATIONAL AIRPORT, CO US</td>\n",
       "      <td>64.2</td>\n",
       "      <td>24</td>\n",
       "      <td>56.4</td>\n",
       "      <td>24</td>\n",
       "      <td>1016.4</td>\n",
       "      <td>...</td>\n",
       "      <td>17.1</td>\n",
       "      <td>24.1</td>\n",
       "      <td>84.9</td>\n",
       "      <td></td>\n",
       "      <td>55.9</td>\n",
       "      <td></td>\n",
       "      <td>0.00</td>\n",
       "      <td>G</td>\n",
       "      <td>NaN</td>\n",
       "      <td>110000</td>\n",
       "    </tr>\n",
       "    <tr>\n",
       "      <th>2018-07-29</th>\n",
       "      <td>72565003017</td>\n",
       "      <td>39.8328</td>\n",
       "      <td>-104.6575</td>\n",
       "      <td>1650.2</td>\n",
       "      <td>DENVER INTERNATIONAL AIRPORT, CO US</td>\n",
       "      <td>65.4</td>\n",
       "      <td>24</td>\n",
       "      <td>55.5</td>\n",
       "      <td>24</td>\n",
       "      <td>1016.3</td>\n",
       "      <td>...</td>\n",
       "      <td>28.9</td>\n",
       "      <td>42.9</td>\n",
       "      <td>82.9</td>\n",
       "      <td>*</td>\n",
       "      <td>55.4</td>\n",
       "      <td>*</td>\n",
       "      <td>0.01</td>\n",
       "      <td>G</td>\n",
       "      <td>NaN</td>\n",
       "      <td>110000</td>\n",
       "    </tr>\n",
       "    <tr>\n",
       "      <th>2018-07-30</th>\n",
       "      <td>72565003017</td>\n",
       "      <td>39.8328</td>\n",
       "      <td>-104.6575</td>\n",
       "      <td>1650.2</td>\n",
       "      <td>DENVER INTERNATIONAL AIRPORT, CO US</td>\n",
       "      <td>66.1</td>\n",
       "      <td>24</td>\n",
       "      <td>48.8</td>\n",
       "      <td>24</td>\n",
       "      <td>1020.3</td>\n",
       "      <td>...</td>\n",
       "      <td>28.9</td>\n",
       "      <td>NaN</td>\n",
       "      <td>84.0</td>\n",
       "      <td></td>\n",
       "      <td>55.9</td>\n",
       "      <td></td>\n",
       "      <td>0.00</td>\n",
       "      <td>G</td>\n",
       "      <td>NaN</td>\n",
       "      <td>0</td>\n",
       "    </tr>\n",
       "    <tr>\n",
       "      <th>2018-07-31</th>\n",
       "      <td>72565003017</td>\n",
       "      <td>39.8328</td>\n",
       "      <td>-104.6575</td>\n",
       "      <td>1650.2</td>\n",
       "      <td>DENVER INTERNATIONAL AIRPORT, CO US</td>\n",
       "      <td>68.0</td>\n",
       "      <td>24</td>\n",
       "      <td>42.3</td>\n",
       "      <td>24</td>\n",
       "      <td>1019.0</td>\n",
       "      <td>...</td>\n",
       "      <td>13.0</td>\n",
       "      <td>22.0</td>\n",
       "      <td>87.1</td>\n",
       "      <td></td>\n",
       "      <td>54.0</td>\n",
       "      <td></td>\n",
       "      <td>0.00</td>\n",
       "      <td>G</td>\n",
       "      <td>NaN</td>\n",
       "      <td>0</td>\n",
       "    </tr>\n",
       "    <tr>\n",
       "      <th>2018-07-08</th>\n",
       "      <td>72565003017</td>\n",
       "      <td>39.8328</td>\n",
       "      <td>-104.6575</td>\n",
       "      <td>1650.2</td>\n",
       "      <td>DENVER INTERNATIONAL AIRPORT, CO US</td>\n",
       "      <td>69.5</td>\n",
       "      <td>24</td>\n",
       "      <td>54.8</td>\n",
       "      <td>24</td>\n",
       "      <td>1015.4</td>\n",
       "      <td>...</td>\n",
       "      <td>21.0</td>\n",
       "      <td>31.1</td>\n",
       "      <td>88.0</td>\n",
       "      <td></td>\n",
       "      <td>55.9</td>\n",
       "      <td></td>\n",
       "      <td>0.31</td>\n",
       "      <td>G</td>\n",
       "      <td>NaN</td>\n",
       "      <td>10010</td>\n",
       "    </tr>\n",
       "    <tr>\n",
       "      <th>2018-07-09</th>\n",
       "      <td>72565003017</td>\n",
       "      <td>39.8328</td>\n",
       "      <td>-104.6575</td>\n",
       "      <td>1650.2</td>\n",
       "      <td>DENVER INTERNATIONAL AIRPORT, CO US</td>\n",
       "      <td>60.6</td>\n",
       "      <td>24</td>\n",
       "      <td>52.6</td>\n",
       "      <td>24</td>\n",
       "      <td>1021.0</td>\n",
       "      <td>...</td>\n",
       "      <td>12.0</td>\n",
       "      <td>NaN</td>\n",
       "      <td>78.1</td>\n",
       "      <td></td>\n",
       "      <td>51.1</td>\n",
       "      <td></td>\n",
       "      <td>0.00</td>\n",
       "      <td>G</td>\n",
       "      <td>NaN</td>\n",
       "      <td>110000</td>\n",
       "    </tr>\n",
       "    <tr>\n",
       "      <th>2018-07-10</th>\n",
       "      <td>72565003017</td>\n",
       "      <td>39.8328</td>\n",
       "      <td>-104.6575</td>\n",
       "      <td>1650.2</td>\n",
       "      <td>DENVER INTERNATIONAL AIRPORT, CO US</td>\n",
       "      <td>43.5</td>\n",
       "      <td>24</td>\n",
       "      <td>37.4</td>\n",
       "      <td>24</td>\n",
       "      <td>1010.4</td>\n",
       "      <td>...</td>\n",
       "      <td>15.9</td>\n",
       "      <td>NaN</td>\n",
       "      <td>61.0</td>\n",
       "      <td></td>\n",
       "      <td>33.1</td>\n",
       "      <td></td>\n",
       "      <td>0.16</td>\n",
       "      <td>G</td>\n",
       "      <td>NaN</td>\n",
       "      <td>10000</td>\n",
       "    </tr>\n",
       "    <tr>\n",
       "      <th>2018-07-11</th>\n",
       "      <td>72565003017</td>\n",
       "      <td>39.8328</td>\n",
       "      <td>-104.6575</td>\n",
       "      <td>1650.2</td>\n",
       "      <td>DENVER INTERNATIONAL AIRPORT, CO US</td>\n",
       "      <td>34.9</td>\n",
       "      <td>24</td>\n",
       "      <td>23.9</td>\n",
       "      <td>24</td>\n",
       "      <td>1019.2</td>\n",
       "      <td>...</td>\n",
       "      <td>13.0</td>\n",
       "      <td>20.0</td>\n",
       "      <td>51.1</td>\n",
       "      <td></td>\n",
       "      <td>26.1</td>\n",
       "      <td></td>\n",
       "      <td>0.00</td>\n",
       "      <td>G</td>\n",
       "      <td>NaN</td>\n",
       "      <td>0</td>\n",
       "    </tr>\n",
       "    <tr>\n",
       "      <th>2018-07-12</th>\n",
       "      <td>72565003017</td>\n",
       "      <td>39.8328</td>\n",
       "      <td>-104.6575</td>\n",
       "      <td>1650.2</td>\n",
       "      <td>DENVER INTERNATIONAL AIRPORT, CO US</td>\n",
       "      <td>26.4</td>\n",
       "      <td>24</td>\n",
       "      <td>15.8</td>\n",
       "      <td>24</td>\n",
       "      <td>1025.2</td>\n",
       "      <td>...</td>\n",
       "      <td>13.0</td>\n",
       "      <td>NaN</td>\n",
       "      <td>43.0</td>\n",
       "      <td></td>\n",
       "      <td>18.0</td>\n",
       "      <td></td>\n",
       "      <td>0.00</td>\n",
       "      <td>G</td>\n",
       "      <td>NaN</td>\n",
       "      <td>0</td>\n",
       "    </tr>\n",
       "  </tbody>\n",
       "</table>\n",
       "<p>31 rows × 27 columns</p>\n",
       "</div>"
      ],
      "text/plain": [
       "                STATION  LATITUDE  LONGITUDE  ELEVATION  \\\n",
       "DATE                                                      \n",
       "2018-07-01  72565003017   39.8328  -104.6575     1650.2   \n",
       "2018-07-02  72565003017   39.8328  -104.6575     1650.2   \n",
       "2018-07-03  72565003017   39.8328  -104.6575     1650.2   \n",
       "2018-07-04  72565003017   39.8328  -104.6575     1650.2   \n",
       "2018-07-05  72565003017   39.8328  -104.6575     1650.2   \n",
       "2018-07-06  72565003017   39.8328  -104.6575     1650.2   \n",
       "2018-07-07  72565003017   39.8328  -104.6575     1650.2   \n",
       "2018-07-13  72565003017   39.8328  -104.6575     1650.2   \n",
       "2018-07-14  72565003017   39.8328  -104.6575     1650.2   \n",
       "2018-07-15  72565003017   39.8328  -104.6575     1650.2   \n",
       "2018-07-16  72565003017   39.8328  -104.6575     1650.2   \n",
       "2018-07-17  72565003017   39.8328  -104.6575     1650.2   \n",
       "2018-07-18  72565003017   39.8328  -104.6575     1650.2   \n",
       "2018-07-19  72565003017   39.8328  -104.6575     1650.2   \n",
       "2018-07-20  72565003017   39.8328  -104.6575     1650.2   \n",
       "2018-07-21  72565003017   39.8328  -104.6575     1650.2   \n",
       "2018-07-22  72565003017   39.8328  -104.6575     1650.2   \n",
       "2018-07-23  72565003017   39.8328  -104.6575     1650.2   \n",
       "2018-07-24  72565003017   39.8328  -104.6575     1650.2   \n",
       "2018-07-25  72565003017   39.8328  -104.6575     1650.2   \n",
       "2018-07-26  72565003017   39.8328  -104.6575     1650.2   \n",
       "2018-07-27  72565003017   39.8328  -104.6575     1650.2   \n",
       "2018-07-28  72565003017   39.8328  -104.6575     1650.2   \n",
       "2018-07-29  72565003017   39.8328  -104.6575     1650.2   \n",
       "2018-07-30  72565003017   39.8328  -104.6575     1650.2   \n",
       "2018-07-31  72565003017   39.8328  -104.6575     1650.2   \n",
       "2018-07-08  72565003017   39.8328  -104.6575     1650.2   \n",
       "2018-07-09  72565003017   39.8328  -104.6575     1650.2   \n",
       "2018-07-10  72565003017   39.8328  -104.6575     1650.2   \n",
       "2018-07-11  72565003017   39.8328  -104.6575     1650.2   \n",
       "2018-07-12  72565003017   39.8328  -104.6575     1650.2   \n",
       "\n",
       "                                           NAME  TEMP  TEMP_ATTRIBUTES  DEWP  \\\n",
       "DATE                                                                           \n",
       "2018-07-01  DENVER INTERNATIONAL AIRPORT, CO US  39.8               24  25.2   \n",
       "2018-07-02  DENVER INTERNATIONAL AIRPORT, CO US  33.1               24  19.6   \n",
       "2018-07-03  DENVER INTERNATIONAL AIRPORT, CO US  30.1               24   6.8   \n",
       "2018-07-04  DENVER INTERNATIONAL AIRPORT, CO US  31.0               24  23.9   \n",
       "2018-07-05  DENVER INTERNATIONAL AIRPORT, CO US  64.9               24  37.2   \n",
       "2018-07-06  DENVER INTERNATIONAL AIRPORT, CO US  76.5               24  39.3   \n",
       "2018-07-07  DENVER INTERNATIONAL AIRPORT, CO US  80.7               24  50.1   \n",
       "2018-07-13  DENVER INTERNATIONAL AIRPORT, CO US  73.4               24  53.6   \n",
       "2018-07-14  DENVER INTERNATIONAL AIRPORT, CO US  79.7               24  49.1   \n",
       "2018-07-15  DENVER INTERNATIONAL AIRPORT, CO US  73.6               24  54.2   \n",
       "2018-07-16  DENVER INTERNATIONAL AIRPORT, CO US  67.7               24  58.5   \n",
       "2018-07-17  DENVER INTERNATIONAL AIRPORT, CO US  72.1               24  58.2   \n",
       "2018-07-18  DENVER INTERNATIONAL AIRPORT, CO US  76.3               24  51.0   \n",
       "2018-07-19  DENVER INTERNATIONAL AIRPORT, CO US  80.7               24  44.5   \n",
       "2018-07-20  DENVER INTERNATIONAL AIRPORT, CO US  80.7               24  47.3   \n",
       "2018-07-21  DENVER INTERNATIONAL AIRPORT, CO US  82.3               24  45.6   \n",
       "2018-07-22  DENVER INTERNATIONAL AIRPORT, CO US  81.2               24  50.8   \n",
       "2018-07-23  DENVER INTERNATIONAL AIRPORT, CO US  71.7               24  57.6   \n",
       "2018-07-24  DENVER INTERNATIONAL AIRPORT, CO US  70.7               24  61.5   \n",
       "2018-07-25  DENVER INTERNATIONAL AIRPORT, CO US  71.6               24  58.8   \n",
       "2018-07-26  DENVER INTERNATIONAL AIRPORT, CO US  67.5               24  57.1   \n",
       "2018-07-27  DENVER INTERNATIONAL AIRPORT, CO US  68.5               24  55.9   \n",
       "2018-07-28  DENVER INTERNATIONAL AIRPORT, CO US  64.2               24  56.4   \n",
       "2018-07-29  DENVER INTERNATIONAL AIRPORT, CO US  65.4               24  55.5   \n",
       "2018-07-30  DENVER INTERNATIONAL AIRPORT, CO US  66.1               24  48.8   \n",
       "2018-07-31  DENVER INTERNATIONAL AIRPORT, CO US  68.0               24  42.3   \n",
       "2018-07-08  DENVER INTERNATIONAL AIRPORT, CO US  69.5               24  54.8   \n",
       "2018-07-09  DENVER INTERNATIONAL AIRPORT, CO US  60.6               24  52.6   \n",
       "2018-07-10  DENVER INTERNATIONAL AIRPORT, CO US  43.5               24  37.4   \n",
       "2018-07-11  DENVER INTERNATIONAL AIRPORT, CO US  34.9               24  23.9   \n",
       "2018-07-12  DENVER INTERNATIONAL AIRPORT, CO US  26.4               24  15.8   \n",
       "\n",
       "            DEWP_ATTRIBUTES     SLP  ...  MXSPD  GUST   MAX  MAX_ATTRIBUTES  \\\n",
       "DATE                                 ...                                      \n",
       "2018-07-01               24  1013.0  ...   11.1   NaN  62.1                   \n",
       "2018-07-02               24  1022.0  ...   11.1   NaN  53.1                   \n",
       "2018-07-03               24  1023.6  ...   13.0  21.0  51.1                   \n",
       "2018-07-04               24  1015.4  ...   14.0  17.1  57.9                   \n",
       "2018-07-05               24  1014.9  ...   15.9  19.0  80.1                   \n",
       "2018-07-06               24  1007.1  ...   27.0  42.9  95.0                   \n",
       "2018-07-07               24  1016.1  ...   15.9  27.0  98.1                   \n",
       "2018-07-13               24  1015.9  ...   18.1   NaN  90.0                   \n",
       "2018-07-14               24  1013.7  ...   13.0  22.0  97.0                   \n",
       "2018-07-15               24  1013.4  ...   24.1  32.1  97.0                   \n",
       "2018-07-16               24  1017.3  ...    9.9   NaN  91.0                   \n",
       "2018-07-17               24  1015.5  ...   24.1  29.9  91.0                   \n",
       "2018-07-18               24  1012.8  ...   19.0  22.9  95.0                   \n",
       "2018-07-19               24  1010.6  ...   11.1  15.9  98.1                   \n",
       "2018-07-20               24  1009.7  ...   13.0  24.1  98.1                   \n",
       "2018-07-21               24  1011.1  ...   21.0  29.9  97.0                   \n",
       "2018-07-22               24  1012.0  ...   20.0  28.0  97.0                   \n",
       "2018-07-23               24  1019.4  ...   19.0  25.1  95.0                   \n",
       "2018-07-24               24  1018.5  ...   20.0  27.0  90.0                   \n",
       "2018-07-25               24  1016.2  ...   25.1  33.0  90.0                   \n",
       "2018-07-26               24  1019.3  ...   18.1  26.0  82.9                   \n",
       "2018-07-27               24  1016.6  ...   27.0  40.0  82.0               *   \n",
       "2018-07-28               24  1016.4  ...   17.1  24.1  84.9                   \n",
       "2018-07-29               24  1016.3  ...   28.9  42.9  82.9               *   \n",
       "2018-07-30               24  1020.3  ...   28.9   NaN  84.0                   \n",
       "2018-07-31               24  1019.0  ...   13.0  22.0  87.1                   \n",
       "2018-07-08               24  1015.4  ...   21.0  31.1  88.0                   \n",
       "2018-07-09               24  1021.0  ...   12.0   NaN  78.1                   \n",
       "2018-07-10               24  1010.4  ...   15.9   NaN  61.0                   \n",
       "2018-07-11               24  1019.2  ...   13.0  20.0  51.1                   \n",
       "2018-07-12               24  1025.2  ...   13.0   NaN  43.0                   \n",
       "\n",
       "             MIN  MIN_ATTRIBUTES  PRCP  PRCP_ATTRIBUTES  SNDP  FRSHTT  \n",
       "DATE                                                                   \n",
       "2018-07-01  26.1                  0.01                G   NaN   11000  \n",
       "2018-07-02  16.0                  0.00                G   NaN  100000  \n",
       "2018-07-03  12.9                  0.00                G   NaN       0  \n",
       "2018-07-04  21.0                  0.05                G   NaN    1000  \n",
       "2018-07-05  46.9                  0.00                G   NaN       0  \n",
       "2018-07-06  57.9                  0.00                G   NaN   10010  \n",
       "2018-07-07  60.1                  0.00                G   NaN       0  \n",
       "2018-07-13  61.0                  0.00                G   NaN       0  \n",
       "2018-07-14  61.0                  0.00                G   NaN       0  \n",
       "2018-07-15  64.0                  0.00                G   NaN   10000  \n",
       "2018-07-16  59.0                  0.21                G   NaN  110000  \n",
       "2018-07-17  59.0                  0.07                G   NaN   10010  \n",
       "2018-07-18  60.1                  0.00                G   NaN       0  \n",
       "2018-07-19  63.0                  0.00                G   NaN       0  \n",
       "2018-07-20  64.0                  0.00                G   NaN       0  \n",
       "2018-07-21  66.0                  0.00                G   NaN       0  \n",
       "2018-07-22  68.0                  0.00                G   NaN   10000  \n",
       "2018-07-23  63.0                  0.00                G   NaN   10010  \n",
       "2018-07-24  63.0                  0.43                G   NaN   10010  \n",
       "2018-07-25  63.0                  0.13                G   NaN   10010  \n",
       "2018-07-26  60.1                  0.11                G   NaN   10010  \n",
       "2018-07-27  57.2               *  0.05                G   NaN   10010  \n",
       "2018-07-28  55.9                  0.00                G   NaN  110000  \n",
       "2018-07-29  55.4               *  0.01                G   NaN  110000  \n",
       "2018-07-30  55.9                  0.00                G   NaN       0  \n",
       "2018-07-31  54.0                  0.00                G   NaN       0  \n",
       "2018-07-08  55.9                  0.31                G   NaN   10010  \n",
       "2018-07-09  51.1                  0.00                G   NaN  110000  \n",
       "2018-07-10  33.1                  0.16                G   NaN   10000  \n",
       "2018-07-11  26.1                  0.00                G   NaN       0  \n",
       "2018-07-12  18.0                  0.00                G   NaN       0  \n",
       "\n",
       "[31 rows x 27 columns]"
      ]
     },
     "execution_count": 42,
     "metadata": {},
     "output_type": "execute_result"
    }
   ],
   "source": [
    "df.loc['2018-07-01':'2018-07-31']"
   ]
  },
  {
   "cell_type": "markdown",
   "metadata": {},
   "source": [
    "### Quick statistics\n",
    "\n",
    "With the commmand `describe` we can get some quick statistics. Which columns have we skipped here?"
   ]
  },
  {
   "cell_type": "code",
   "execution_count": 56,
   "metadata": {},
   "outputs": [
    {
     "data": {
      "text/html": [
       "<div>\n",
       "<style scoped>\n",
       "    .dataframe tbody tr th:only-of-type {\n",
       "        vertical-align: middle;\n",
       "    }\n",
       "\n",
       "    .dataframe tbody tr th {\n",
       "        vertical-align: top;\n",
       "    }\n",
       "\n",
       "    .dataframe thead th {\n",
       "        text-align: right;\n",
       "    }\n",
       "</style>\n",
       "<table border=\"1\" class=\"dataframe\">\n",
       "  <thead>\n",
       "    <tr style=\"text-align: right;\">\n",
       "      <th></th>\n",
       "      <th>TEMP</th>\n",
       "      <th>TEMP_ATTRIBUTES</th>\n",
       "      <th>DEWP</th>\n",
       "      <th>DEWP_ATTRIBUTES</th>\n",
       "      <th>SLP</th>\n",
       "      <th>SLP_ATTRIBUTES</th>\n",
       "      <th>STP</th>\n",
       "      <th>STP_ATTRIBUTES</th>\n",
       "      <th>VISIB</th>\n",
       "      <th>VISIB_ATTRIBUTES</th>\n",
       "      <th>WDSP</th>\n",
       "      <th>WDSP_ATTRIBUTES</th>\n",
       "      <th>MXSPD</th>\n",
       "      <th>GUST</th>\n",
       "      <th>MAX</th>\n",
       "      <th>MIN</th>\n",
       "      <th>PRCP</th>\n",
       "      <th>SNDP</th>\n",
       "      <th>FRSHTT</th>\n",
       "    </tr>\n",
       "  </thead>\n",
       "  <tbody>\n",
       "    <tr>\n",
       "      <th>count</th>\n",
       "      <td>365.000000</td>\n",
       "      <td>365.0</td>\n",
       "      <td>365.000000</td>\n",
       "      <td>365.0</td>\n",
       "      <td>364.000000</td>\n",
       "      <td>365.000000</td>\n",
       "      <td>365.000000</td>\n",
       "      <td>365.0</td>\n",
       "      <td>365.000000</td>\n",
       "      <td>365.0</td>\n",
       "      <td>365.000000</td>\n",
       "      <td>365.0</td>\n",
       "      <td>365.000000</td>\n",
       "      <td>255.000000</td>\n",
       "      <td>362.000000</td>\n",
       "      <td>365.000000</td>\n",
       "      <td>365.000000</td>\n",
       "      <td>18.000000</td>\n",
       "      <td>365.000000</td>\n",
       "    </tr>\n",
       "    <tr>\n",
       "      <th>mean</th>\n",
       "      <td>51.808767</td>\n",
       "      <td>24.0</td>\n",
       "      <td>29.516164</td>\n",
       "      <td>24.0</td>\n",
       "      <td>1013.821429</td>\n",
       "      <td>22.619178</td>\n",
       "      <td>833.118904</td>\n",
       "      <td>24.0</td>\n",
       "      <td>9.369863</td>\n",
       "      <td>24.0</td>\n",
       "      <td>8.896164</td>\n",
       "      <td>24.0</td>\n",
       "      <td>18.463562</td>\n",
       "      <td>29.417647</td>\n",
       "      <td>70.029558</td>\n",
       "      <td>36.538082</td>\n",
       "      <td>0.024082</td>\n",
       "      <td>1.694444</td>\n",
       "      <td>12382.684932</td>\n",
       "    </tr>\n",
       "    <tr>\n",
       "      <th>std</th>\n",
       "      <td>18.124424</td>\n",
       "      <td>0.0</td>\n",
       "      <td>14.705844</td>\n",
       "      <td>0.0</td>\n",
       "      <td>7.087589</td>\n",
       "      <td>2.703308</td>\n",
       "      <td>5.014939</td>\n",
       "      <td>0.0</td>\n",
       "      <td>1.435316</td>\n",
       "      <td>0.0</td>\n",
       "      <td>2.557619</td>\n",
       "      <td>0.0</td>\n",
       "      <td>5.965433</td>\n",
       "      <td>8.253782</td>\n",
       "      <td>18.604047</td>\n",
       "      <td>17.158441</td>\n",
       "      <td>0.078939</td>\n",
       "      <td>0.841198</td>\n",
       "      <td>30573.651227</td>\n",
       "    </tr>\n",
       "    <tr>\n",
       "      <th>min</th>\n",
       "      <td>5.000000</td>\n",
       "      <td>24.0</td>\n",
       "      <td>-4.100000</td>\n",
       "      <td>24.0</td>\n",
       "      <td>996.900000</td>\n",
       "      <td>10.000000</td>\n",
       "      <td>819.300000</td>\n",
       "      <td>24.0</td>\n",
       "      <td>0.700000</td>\n",
       "      <td>24.0</td>\n",
       "      <td>4.100000</td>\n",
       "      <td>24.0</td>\n",
       "      <td>7.000000</td>\n",
       "      <td>14.000000</td>\n",
       "      <td>19.000000</td>\n",
       "      <td>-7.100000</td>\n",
       "      <td>0.000000</td>\n",
       "      <td>1.200000</td>\n",
       "      <td>0.000000</td>\n",
       "    </tr>\n",
       "    <tr>\n",
       "      <th>25%</th>\n",
       "      <td>36.400000</td>\n",
       "      <td>24.0</td>\n",
       "      <td>18.100000</td>\n",
       "      <td>24.0</td>\n",
       "      <td>1009.075000</td>\n",
       "      <td>23.000000</td>\n",
       "      <td>829.900000</td>\n",
       "      <td>24.0</td>\n",
       "      <td>9.700000</td>\n",
       "      <td>24.0</td>\n",
       "      <td>7.200000</td>\n",
       "      <td>24.0</td>\n",
       "      <td>14.000000</td>\n",
       "      <td>22.900000</td>\n",
       "      <td>55.900000</td>\n",
       "      <td>23.000000</td>\n",
       "      <td>0.000000</td>\n",
       "      <td>1.200000</td>\n",
       "      <td>0.000000</td>\n",
       "    </tr>\n",
       "    <tr>\n",
       "      <th>50%</th>\n",
       "      <td>50.700000</td>\n",
       "      <td>24.0</td>\n",
       "      <td>28.500000</td>\n",
       "      <td>24.0</td>\n",
       "      <td>1013.500000</td>\n",
       "      <td>24.000000</td>\n",
       "      <td>833.500000</td>\n",
       "      <td>24.0</td>\n",
       "      <td>10.000000</td>\n",
       "      <td>24.0</td>\n",
       "      <td>8.400000</td>\n",
       "      <td>24.0</td>\n",
       "      <td>18.100000</td>\n",
       "      <td>28.900000</td>\n",
       "      <td>69.100000</td>\n",
       "      <td>34.000000</td>\n",
       "      <td>0.000000</td>\n",
       "      <td>1.200000</td>\n",
       "      <td>0.000000</td>\n",
       "    </tr>\n",
       "    <tr>\n",
       "      <th>75%</th>\n",
       "      <td>68.000000</td>\n",
       "      <td>24.0</td>\n",
       "      <td>42.300000</td>\n",
       "      <td>24.0</td>\n",
       "      <td>1018.625000</td>\n",
       "      <td>24.000000</td>\n",
       "      <td>836.500000</td>\n",
       "      <td>24.0</td>\n",
       "      <td>10.000000</td>\n",
       "      <td>24.0</td>\n",
       "      <td>10.200000</td>\n",
       "      <td>24.0</td>\n",
       "      <td>22.900000</td>\n",
       "      <td>34.000000</td>\n",
       "      <td>87.775000</td>\n",
       "      <td>53.100000</td>\n",
       "      <td>0.000000</td>\n",
       "      <td>2.000000</td>\n",
       "      <td>10000.000000</td>\n",
       "    </tr>\n",
       "    <tr>\n",
       "      <th>max</th>\n",
       "      <td>85.300000</td>\n",
       "      <td>24.0</td>\n",
       "      <td>61.500000</td>\n",
       "      <td>24.0</td>\n",
       "      <td>1038.300000</td>\n",
       "      <td>24.000000</td>\n",
       "      <td>845.400000</td>\n",
       "      <td>24.0</td>\n",
       "      <td>10.000000</td>\n",
       "      <td>24.0</td>\n",
       "      <td>23.200000</td>\n",
       "      <td>24.0</td>\n",
       "      <td>40.000000</td>\n",
       "      <td>58.100000</td>\n",
       "      <td>105.100000</td>\n",
       "      <td>68.000000</td>\n",
       "      <td>0.660000</td>\n",
       "      <td>3.900000</td>\n",
       "      <td>111110.000000</td>\n",
       "    </tr>\n",
       "  </tbody>\n",
       "</table>\n",
       "</div>"
      ],
      "text/plain": [
       "             TEMP  TEMP_ATTRIBUTES        DEWP  DEWP_ATTRIBUTES          SLP  \\\n",
       "count  365.000000            365.0  365.000000            365.0   364.000000   \n",
       "mean    51.808767             24.0   29.516164             24.0  1013.821429   \n",
       "std     18.124424              0.0   14.705844              0.0     7.087589   \n",
       "min      5.000000             24.0   -4.100000             24.0   996.900000   \n",
       "25%     36.400000             24.0   18.100000             24.0  1009.075000   \n",
       "50%     50.700000             24.0   28.500000             24.0  1013.500000   \n",
       "75%     68.000000             24.0   42.300000             24.0  1018.625000   \n",
       "max     85.300000             24.0   61.500000             24.0  1038.300000   \n",
       "\n",
       "       SLP_ATTRIBUTES         STP  STP_ATTRIBUTES       VISIB  \\\n",
       "count      365.000000  365.000000           365.0  365.000000   \n",
       "mean        22.619178  833.118904            24.0    9.369863   \n",
       "std          2.703308    5.014939             0.0    1.435316   \n",
       "min         10.000000  819.300000            24.0    0.700000   \n",
       "25%         23.000000  829.900000            24.0    9.700000   \n",
       "50%         24.000000  833.500000            24.0   10.000000   \n",
       "75%         24.000000  836.500000            24.0   10.000000   \n",
       "max         24.000000  845.400000            24.0   10.000000   \n",
       "\n",
       "       VISIB_ATTRIBUTES        WDSP  WDSP_ATTRIBUTES       MXSPD        GUST  \\\n",
       "count             365.0  365.000000            365.0  365.000000  255.000000   \n",
       "mean               24.0    8.896164             24.0   18.463562   29.417647   \n",
       "std                 0.0    2.557619              0.0    5.965433    8.253782   \n",
       "min                24.0    4.100000             24.0    7.000000   14.000000   \n",
       "25%                24.0    7.200000             24.0   14.000000   22.900000   \n",
       "50%                24.0    8.400000             24.0   18.100000   28.900000   \n",
       "75%                24.0   10.200000             24.0   22.900000   34.000000   \n",
       "max                24.0   23.200000             24.0   40.000000   58.100000   \n",
       "\n",
       "              MAX         MIN        PRCP       SNDP         FRSHTT  \n",
       "count  362.000000  365.000000  365.000000  18.000000     365.000000  \n",
       "mean    70.029558   36.538082    0.024082   1.694444   12382.684932  \n",
       "std     18.604047   17.158441    0.078939   0.841198   30573.651227  \n",
       "min     19.000000   -7.100000    0.000000   1.200000       0.000000  \n",
       "25%     55.900000   23.000000    0.000000   1.200000       0.000000  \n",
       "50%     69.100000   34.000000    0.000000   1.200000       0.000000  \n",
       "75%     87.775000   53.100000    0.000000   2.000000   10000.000000  \n",
       "max    105.100000   68.000000    0.660000   3.900000  111110.000000  "
      ]
     },
     "execution_count": 56,
     "metadata": {},
     "output_type": "execute_result"
    }
   ],
   "source": [
    "df.iloc[:,4:].describe() # start from the 5th column"
   ]
  },
  {
   "cell_type": "markdown",
   "metadata": {},
   "source": [
    "### Plotting Values\n",
    "\n",
    "We can now quickly make plots of the data. Boxplots can give a very good idea of the spread in your data."
   ]
  },
  {
   "cell_type": "code",
   "execution_count": 71,
   "metadata": {},
   "outputs": [
    {
     "data": {
      "image/png": "[encoded data removed]",
      "text/plain": [
       "<Figure size 576x576 with 4 Axes>"
      ]
     },
     "metadata": {
      "needs_background": "light"
     },
     "output_type": "display_data"
    }
   ],
   "source": [
    "fig, ax = plt.subplots(ncols=2, nrows=2, figsize=(8,8), constrained_layout=True)\n",
    "\n",
    "ax[0,0].set_title('temperature')\n",
    "df.iloc[:, [5,7,19,21]].boxplot(ax=ax[0,0])\n",
    "ax[0,1].set_title('pressure')\n",
    "df.iloc[:, [9,11]].boxplot(ax=ax[0,1])\n",
    "ax[1,0].set_title('precipitation')\n",
    "df.iloc[:, [23,25]].boxplot(ax=ax[1,0])\n",
    "ax[1,1].set_title('wind')\n",
    "df.iloc[:, [15,17,18]].boxplot(ax=ax[1,1])\n",
    "\n",
    "for i in range(2):\n",
    "    for j in range(2):\n",
    "        ax[i,j].set_xticklabels(ax[i,j].get_xticklabels(), rotation=30);"
   ]
  },
  {
   "cell_type": "markdown",
   "metadata": {},
   "source": [
    "Pandas is very \"time aware\":"
   ]
  },
  {
   "cell_type": "code",
   "execution_count": 72,
   "metadata": {},
   "outputs": [
    {
     "data": {
      "text/plain": [
       "<matplotlib.axes._subplots.AxesSubplot at 0x7fc6c6c6d400>"
      ]
     },
     "execution_count": 72,
     "metadata": {},
     "output_type": "execute_result"
    },
    {
     "data": {
      "image/png": "[encoded data removed]",
      "text/plain": [
       "<Figure size 432x288 with 1 Axes>"
      ]
     },
     "metadata": {
      "needs_background": "light"
     },
     "output_type": "display_data"
    }
   ],
   "source": [
    "df.TEMP.plot()"
   ]
  },
  {
   "cell_type": "markdown",
   "metadata": {},
   "source": [
    "Note: we could also manually create an axis and plot into it."
   ]
  },
  {
   "cell_type": "code",
   "execution_count": 77,
   "metadata": {},
   "outputs": [
    {
     "data": {
      "text/plain": [
       "Text(0,0.5,'T (Fahrenheit)')"
      ]
     },
     "execution_count": 77,
     "metadata": {},
     "output_type": "execute_result"
    },
    {
     "data": {
      "image/png": "[encoded data removed]",
      "text/plain": [
       "<Figure size 432x288 with 1 Axes>"
      ]
     },
     "metadata": {
      "needs_background": "light"
     },
     "output_type": "display_data"
    }
   ],
   "source": [
    "fig, ax = plt.subplots()\n",
    "df.TEMP.plot(ax=ax)\n",
    "ax.set_title('Pandas Made This!')\n",
    "ax.set_ylabel('T (Fahrenheit)')"
   ]
  },
  {
   "cell_type": "code",
   "execution_count": 75,
   "metadata": {},
   "outputs": [
    {
     "data": {
      "text/plain": [
       "<matplotlib.axes._subplots.AxesSubplot at 0x7fc6c7c5e5c0>"
      ]
     },
     "execution_count": 75,
     "metadata": {},
     "output_type": "execute_result"
    },
    {
     "data": {
      "image/png": "[encoded data removed]",
      "text/plain": [
       "<Figure size 432x288 with 1 Axes>"
      ]
     },
     "metadata": {
      "needs_background": "light"
     },
     "output_type": "display_data"
    }
   ],
   "source": [
    "temps_list = ['MIN', 'TEMP', 'MAX']\n",
    "df[temps_list].plot()"
   ]
  },
  {
   "cell_type": "markdown",
   "metadata": {},
   "source": [
    "### Rolling operations\n",
    "\n",
    "We easily calculate the running mean by applying a [rolling](https://pandas.pydata.org/pandas-docs/stable/generated/pandas.DataFrame.rolling.html) window and specifying a function (in this case the `mean` function) to apply over a moving window along the index. We specify the size of the window and, optionally, the weights. We also use the keyword `centered` to tell pandas whether to center the operation around the midpoint of the window.\n",
    "\n",
    "In the following example, we get the 30-day moving average temperature."
   ]
  },
  {
   "cell_type": "code",
   "execution_count": 76,
   "metadata": {},
   "outputs": [
    {
     "data": {
      "text/plain": [
       "<matplotlib.axes._subplots.AxesSubplot at 0x7fc6c800b748>"
      ]
     },
     "execution_count": 76,
     "metadata": {},
     "output_type": "execute_result"
    },
    {
     "data": {
      "image/png": "[encoded data removed]",
      "text/plain": [
       "<Figure size 432x288 with 1 Axes>"
      ]
     },
     "metadata": {
      "needs_background": "light"
     },
     "output_type": "display_data"
    }
   ],
   "source": [
    "df[temps_list].rolling(30, center=True).mean().plot()"
   ]
  },
  {
   "cell_type": "markdown",
   "metadata": {},
   "source": [
    "## <span style=\"color:blue\">Exercises</span>\n",
    "1. Convert the following dictionary into a Pandas Series and display on overview of basic statistics (count, mean, std, min,... see DataFrame subsection above). `d1 = {'a': 100, 'b': 200, 'c':300, 'd':400, 'e':800}`"
   ]
  },
  {
   "cell_type": "code",
   "execution_count": null,
   "metadata": {},
   "outputs": [],
   "source": []
  },
  {
   "cell_type": "markdown",
   "metadata": {},
   "source": [
    "2. Convert the following data into a DataFrame:\n",
    "```\n",
    "exam_data={'name': ['Anastasia', 'Dima', 'Katherine', 'James', 'Emily', 'Michael', 'Matthew', 'Laura', 'Kevin', 'Jonas'],\n",
    "              'score': [12.5, 9, 16.5, np.nan, 9, 20, 14.5, np.nan, 8, 19],\n",
    "              'attempts' : [1, 3, 2, 3, 2, 3, 1, 1, 2, 1],\n",
    "              'qualify': ['yes', 'no', 'yes', 'no', 'no', 'yes', 'yes', 'no', 'no', 'yes']}\n",
    "```\n",
    "Calculate the mean score, select those whose attemps>2, and calculate how many rows are missing a score (you can use the built-in `.isnull()` function)."
   ]
  },
  {
   "cell_type": "code",
   "execution_count": null,
   "metadata": {},
   "outputs": [],
   "source": []
  },
  {
   "cell_type": "markdown",
   "metadata": {},
   "source": [
    "3. Create a a daily time series from 2015-2020 with an noisy annual cycle. Resample the data by taking the mean over each month using `resample('M')`. Create the climatology (monhtly means) using the groupby(timeseries.index.month) operator.\n",
    "<img src=\"figures/3a3.png\" width=\"600\">"
   ]
  },
  {
   "cell_type": "code",
   "execution_count": null,
   "metadata": {},
   "outputs": [],
   "source": []
  },
  {
   "cell_type": "markdown",
   "metadata": {},
   "source": [
    "## Solutions "
   ]
  },
  {
   "cell_type": "code",
   "execution_count": 80,
   "metadata": {},
   "outputs": [
    {
     "name": "stdout",
     "output_type": "stream",
     "text": [
      "a    100\n",
      "b    200\n",
      "c    300\n",
      "d    400\n",
      "e    800\n",
      "dtype: int64\n"
     ]
    },
    {
     "data": {
      "text/plain": [
       "count      5.000000\n",
       "mean     360.000000\n",
       "std      270.185122\n",
       "min      100.000000\n",
       "25%      200.000000\n",
       "50%      300.000000\n",
       "75%      400.000000\n",
       "max      800.000000\n",
       "dtype: float64"
      ]
     },
     "execution_count": 80,
     "metadata": {},
     "output_type": "execute_result"
    }
   ],
   "source": [
    "# 1. Convert the following dictionary into a Pandas Series\n",
    "# and display on overview of basic statistics\n",
    "# (count, mean, std, min,... see DataFrame subsection above).\n",
    "d1 = {'a': 100, 'b': 200, 'c':300, 'd':400, 'e':800}\n",
    "new_series = pd.Series(d1)\n",
    "print(new_series)\n",
    "new_series.describe()"
   ]
  },
  {
   "cell_type": "code",
   "execution_count": 81,
   "metadata": {},
   "outputs": [
    {
     "name": "stdout",
     "output_type": "stream",
     "text": [
      "The mean score:   13.5625\n",
      "Number of attempts in the examination is greater than 2:\n",
      "      name  score  attempts qualify\n",
      "1     Dima    9.0         3      no\n",
      "3    James    NaN         3      no\n",
      "5  Michael   20.0         3     yes\n",
      "This many rows are missing a score:   2\n"
     ]
    }
   ],
   "source": [
    "# 2. Convert the following data into a DataFrame:\n",
    "# Calculate the mean score, select those whose attemps>2, \n",
    "# and calculate how many rows are missing a score (you can use the built-in `.isnull()` function).\n",
    "\n",
    "exam_data={'name': ['Anastasia', 'Dima', 'Katherine', 'James', 'Emily', 'Michael', 'Matthew', 'Laura', 'Kevin', 'Jonas'],\n",
    "           'score': [12.5, 9, 16.5, np.nan, 9, 20, 14.5, np.nan, 8, 19],\n",
    "           'attempts' : [1, 3, 2, 3, 2, 3, 1, 1, 2, 1],\n",
    "           'qualify': ['yes', 'no', 'yes', 'no', 'no', 'yes', 'yes', 'no', 'no', 'yes']}\n",
    "exams = pd.DataFrame(exam_data)\n",
    "print(f'The mean score:   {exams[\"score\"].mean()}')\n",
    "\n",
    "print(\"Number of attempts in the examination is greater than 2:\")\n",
    "print(exams[exams['attempts'] > 2])\n",
    "\n",
    "print(f'This many rows are missing a score:   {len(exams[exams[\"score\"].isnull()])}')"
   ]
  },
  {
   "cell_type": "code",
   "execution_count": 82,
   "metadata": {},
   "outputs": [
    {
     "data": {
      "image/png": "[encoded data removed]",
      "text/plain": [
       "<Figure size 720x432 with 2 Axes>"
      ]
     },
     "metadata": {
      "needs_background": "light"
     },
     "output_type": "display_data"
    }
   ],
   "source": [
    "# 3. Create a a daily time series from 2015-2020 with an noisy annual cycle.\n",
    "# Resample the data by taking the mean over each month using `resample('M')`.\n",
    "# Create the climatology (monhtly means) using the groupby(timeseries.index.month) operator.\n",
    "\n",
    "dates = pd.date_range(start='2015-01-01', end='2020-01-01', freq='D')\n",
    "timeseries = pd.Series(.5*np.sin(2*np.pi*dates.dayofyear/365)+np.random.rand((len(dates)))-.5,\n",
    "                       index=dates)\n",
    "fig, ax = plt.subplots(1, 2, figsize=(10,6), sharey=True)\n",
    "\n",
    "timeseries.plot(ax=ax[0], label='daily values', alpha=.5)\n",
    "timeseries.resample('M').mean().plot(ax=ax[0], label='monthly means')\n",
    "ax[0].legend()\n",
    "ax[0].set_xlabel('time [years C.E.]')\n",
    "ax[0].set_ylabel('values')\n",
    "\n",
    "timeseries.groupby(timeseries.index.month).mean().plot(ax=ax[1], label='climatology over five years')\n",
    "ax[1].legend()\n",
    "ax[0].set_xlabel('time [month]')\n",
    "plt.savefig('figures/3a3')"
   ]
  },
  {
   "cell_type": "code",
   "execution_count": null,
   "metadata": {},
   "outputs": [],
   "source": []
  }
 ],
 "metadata": {
  "kernelspec": {
   "display_name": "Python 3 (ipykernel)",
   "language": "python",
   "name": "python3"
  },
  "language_info": {
   "codemirror_mode": {
    "name": "ipython",
    "version": 3
   },
   "file_extension": ".py",
   "mimetype": "text/x-python",
   "name": "python",
   "nbconvert_exporter": "python",
   "pygments_lexer": "ipython3",
   "version": "3.7.3"
  }
 },
 "nbformat": 4,
 "nbformat_minor": 4
}
