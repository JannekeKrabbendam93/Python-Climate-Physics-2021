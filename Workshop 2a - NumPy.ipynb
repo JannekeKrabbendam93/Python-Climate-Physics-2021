{
 "cells": [
  {
   "cell_type": "markdown",
   "metadata": {},
   "source": [
    "# Workshop 2\n",
    "Part of this tutorial is based on the NumPy and Matplotlib documentation (https://numpy.org/doc/stable/ and https://matplotlib.org/stable/contents.html). Also, part of this tutorial is based on the Python introduction from last year of André Jüling, created under the BSD 3-Clause License (https://github.com/AJueling/python_climate_physics).\n",
    "\n",
    "In this workshop we will pay attention to Python the packages NumPy (Numerical Python), Matplotlib (Mathematical p\n",
    "Plotting Library). The standard Python library is deliberately kept small, because there are so many different use cases, scientific computing is just one of them.\n",
    "Importing packages brings new variables (mostly functions) into our interpreter which allows us to extend functionality with code written by the community. There are many more packages (freely and openly) available, which you can use to do different things. In the next tutorials, we will work with packages that for example can import and analyze data and other packages that can our plots look nicer. However, the NumPy and Matplotlib packages are two of the most fundamental parts of the scientific Python \"ecosystem\". Most of everything else is built on top of them which is why we cover them first (see Figure below).\n",
    "\n",
    "<img src=\"https://media.springernature.com/full/springer-static/image/art%3A10.1038%2Fs41586-020-2649-2/MediaObjects/41586_2020_2649_Fig2_HTML.png\" width=\"600\">\n",
    "(Figure 2 of the Numpy review article (doi:10.1038/s41586-020-2649-2))\n",
    "\n",
    "\n",
    "## 1. NumPy\n",
    "At the core of the NumPy package, is the `ndarray` object. These are $n$-dimensional arrays of homogeneous data types, for which a lot of methods (=functions) are built-in. With NumPy arrays you can do advanced mathematical and other types of operations on large numbers of data. Typically, such operations are executed more efficiently and with less code than is possible using Python’s built-in sequences. This is useful, because size and speed matter when we are dealing with large and complex data or models. Some examples of what you can do with NumPy is depicted in the figure below.\n",
    "\n",
    "<img src=\"https://media.springernature.com/full/springer-static/image/art%3A10.1038%2Fs41586-020-2649-2/MediaObjects/41586_2020_2649_Fig1_HTML.png\" width=\"900\">\n",
    "\n",
    "Figure 1 of the NumPy review article (doi:10.1038/s41586-020-2649-2) with its caption:\n",
    "\n",
    "__a__ The NumPy array data structure and its associated metadata fields. \n",
    "\n",
    "__b__ Indexing an array with slices and steps. These operations return a ‘view’ of the original data. \n",
    "\n",
    "__c__ Indexing an array with masks, scalar coordinates or other arrays, so that it returns a ‘copy’ of the original data. In the bottom example, an array is indexed with other arrays; this broadcasts the indexing arguments before performing the lookup. \n",
    "\n",
    "__d__ Vectorization efficiently applies operations to groups of elements. \n",
    "\n",
    "__e__ Broadcasting in the multiplication of two-dimensional arrays. \n",
    "\n",
    "__f__ Reduction operations act along one or more axes. In this example, an array is summed along select axes to produce a vector, or along two axes consecutively to produce a scalar. \n",
    "\n",
    "__g__ Example NumPy code, illustrating some of these concepts.\n",
    "\n",
    "So now let's see what we can do with NumPy. NumPy is already installed in most Python environments such as Anaconda, so we don't have to do that ourselves. We only have to tell Python that we want to use NumPy by importing it:"
   ]
  },
  {
   "cell_type": "code",
   "execution_count": 1,
   "metadata": {},
   "outputs": [],
   "source": [
    "import numpy as np"
   ]
  },
  {
   "cell_type": "markdown",
   "metadata": {},
   "source": [
    "We gave it a shorter acronym (`np` is arbitrary, but convention). Every we function we want to use from NumPy will have `np.` in front of it, that's why it's useful to make it shorter."
   ]
  },
  {
   "cell_type": "code",
   "execution_count": 2,
   "metadata": {},
   "outputs": [
    {
     "data": {
      "text/plain": [
       "'1.18.1'"
      ]
     },
     "execution_count": 2,
     "metadata": {},
     "output_type": "execute_result"
    }
   ],
   "source": [
    "# find out what version of NumPy we have (can be important for troubleshooting)\n",
    "np.__version__"
   ]
  },
  {
   "cell_type": "markdown",
   "metadata": {},
   "source": [
    "### NumPy arrays\n",
    "Now we will practice with some useful NumPy functions for arrays."
   ]
  },
  {
   "cell_type": "code",
   "execution_count": 3,
   "metadata": {},
   "outputs": [
    {
     "name": "stdout",
     "output_type": "stream",
     "text": [
      "[9 0 2 1 0]\n"
     ]
    },
    {
     "data": {
      "text/plain": [
       "dtype('int64')"
      ]
     },
     "execution_count": 3,
     "metadata": {},
     "output_type": "execute_result"
    }
   ],
   "source": [
    "# create an array from a list\n",
    "a = np.array([9,0,2,1,0])\n",
    "print(a)\n",
    "\n",
    "# find out the datatype\n",
    "a.dtype"
   ]
  },
  {
   "cell_type": "code",
   "execution_count": 4,
   "metadata": {},
   "outputs": [
    {
     "name": "stdout",
     "output_type": "stream",
     "text": [
      "(5,)\n"
     ]
    }
   ],
   "source": [
    "# find out the shape\n",
    "print(a.shape) "
   ]
  },
  {
   "cell_type": "code",
   "execution_count": 5,
   "metadata": {},
   "outputs": [
    {
     "data": {
      "text/plain": [
       "tuple"
      ]
     },
     "execution_count": 5,
     "metadata": {},
     "output_type": "execute_result"
    }
   ],
   "source": [
    "# what is the shape\n",
    "type(a.shape)"
   ]
  },
  {
   "cell_type": "markdown",
   "metadata": {},
   "source": [
    "One that you will often use is `np.shape(array_name)`, especially if you are using arrays with a lot of dimensions. The output of `a.shape` is `(5,)`. There being only one number tells you that this array consists of 1 dimensions and that there are 5 entries in this dimension."
   ]
  },
  {
   "cell_type": "code",
   "execution_count": 6,
   "metadata": {},
   "outputs": [
    {
     "data": {
      "text/plain": [
       "array([[5., 3., 1., 9.],\n",
       "       [9., 2., 3., 0.]])"
      ]
     },
     "execution_count": 6,
     "metadata": {},
     "output_type": "execute_result"
    }
   ],
   "source": [
    "# another array with a different datatype and shape\n",
    "b = np.array([[5,3,1,9],[9,2,3,0]], dtype=np.float64)\n",
    "\n",
    "b"
   ]
  },
  {
   "cell_type": "code",
   "execution_count": 7,
   "metadata": {},
   "outputs": [
    {
     "data": {
      "text/plain": [
       "(dtype('float64'), (2, 4))"
      ]
     },
     "execution_count": 7,
     "metadata": {},
     "output_type": "execute_result"
    }
   ],
   "source": [
    "# check dtype and shape\n",
    "b.dtype, b.shape"
   ]
  },
  {
   "cell_type": "markdown",
   "metadata": {},
   "source": [
    "Now we have `b` which has two dimension which each have four entries. You can also think of it as a matrix with 2 rows and 4 columns.\n",
    "\n",
    "There are several other ways to create $n$-dimensional arrays:\n",
    "\n",
    "- `np.zeros(n)` = array full of zeros\n",
    "- `np.ones(n)` = array full of ones\n",
    "- `np.full(n,value)` = array of full with value `value` \n",
    "- `np.ones_like(other_array)` = an array with the same shape as `other_array` but filled with ones\n",
    "- `np.zeros_like(other_array)` = an array with the same shape as `other_array` but filled with zeroes\n",
    "\n",
    "Remember that you can also specify the data-type, for example float, integer, strings and complex numbers."
   ]
  },
  {
   "cell_type": "code",
   "execution_count": 8,
   "metadata": {},
   "outputs": [
    {
     "data": {
      "text/plain": [
       "(array([[0., 0., 0., 0., 0., 0., 0., 0., 0.],\n",
       "        [0., 0., 0., 0., 0., 0., 0., 0., 0.],\n",
       "        [0., 0., 0., 0., 0., 0., 0., 0., 0.],\n",
       "        [0., 0., 0., 0., 0., 0., 0., 0., 0.],\n",
       "        [0., 0., 0., 0., 0., 0., 0., 0., 0.],\n",
       "        [0., 0., 0., 0., 0., 0., 0., 0., 0.],\n",
       "        [0., 0., 0., 0., 0., 0., 0., 0., 0.],\n",
       "        [0., 0., 0., 0., 0., 0., 0., 0., 0.],\n",
       "        [0., 0., 0., 0., 0., 0., 0., 0., 0.]]),\n",
       " array([[[1.+0.j, 1.+0.j, 1.+0.j],\n",
       "         [1.+0.j, 1.+0.j, 1.+0.j],\n",
       "         [1.+0.j, 1.+0.j, 1.+0.j],\n",
       "         [1.+0.j, 1.+0.j, 1.+0.j],\n",
       "         [1.+0.j, 1.+0.j, 1.+0.j],\n",
       "         [1.+0.j, 1.+0.j, 1.+0.j]],\n",
       " \n",
       "        [[1.+0.j, 1.+0.j, 1.+0.j],\n",
       "         [1.+0.j, 1.+0.j, 1.+0.j],\n",
       "         [1.+0.j, 1.+0.j, 1.+0.j],\n",
       "         [1.+0.j, 1.+0.j, 1.+0.j],\n",
       "         [1.+0.j, 1.+0.j, 1.+0.j],\n",
       "         [1.+0.j, 1.+0.j, 1.+0.j]],\n",
       " \n",
       "        [[1.+0.j, 1.+0.j, 1.+0.j],\n",
       "         [1.+0.j, 1.+0.j, 1.+0.j],\n",
       "         [1.+0.j, 1.+0.j, 1.+0.j],\n",
       "         [1.+0.j, 1.+0.j, 1.+0.j],\n",
       "         [1.+0.j, 1.+0.j, 1.+0.j],\n",
       "         [1.+0.j, 1.+0.j, 1.+0.j]]]),\n",
       " array([[3.14159265, 3.14159265, 3.14159265],\n",
       "        [3.14159265, 3.14159265, 3.14159265],\n",
       "        [3.14159265, 3.14159265, 3.14159265]]),\n",
       " array([[1., 1., 1., 1., 1., 1., 1., 1., 1.],\n",
       "        [1., 1., 1., 1., 1., 1., 1., 1., 1.],\n",
       "        [1., 1., 1., 1., 1., 1., 1., 1., 1.],\n",
       "        [1., 1., 1., 1., 1., 1., 1., 1., 1.],\n",
       "        [1., 1., 1., 1., 1., 1., 1., 1., 1.],\n",
       "        [1., 1., 1., 1., 1., 1., 1., 1., 1.],\n",
       "        [1., 1., 1., 1., 1., 1., 1., 1., 1.],\n",
       "        [1., 1., 1., 1., 1., 1., 1., 1., 1.],\n",
       "        [1., 1., 1., 1., 1., 1., 1., 1., 1.]]),\n",
       " array([[[0.+0.j, 0.+0.j, 0.+0.j],\n",
       "         [0.+0.j, 0.+0.j, 0.+0.j],\n",
       "         [0.+0.j, 0.+0.j, 0.+0.j],\n",
       "         [0.+0.j, 0.+0.j, 0.+0.j],\n",
       "         [0.+0.j, 0.+0.j, 0.+0.j],\n",
       "         [0.+0.j, 0.+0.j, 0.+0.j]],\n",
       " \n",
       "        [[0.+0.j, 0.+0.j, 0.+0.j],\n",
       "         [0.+0.j, 0.+0.j, 0.+0.j],\n",
       "         [0.+0.j, 0.+0.j, 0.+0.j],\n",
       "         [0.+0.j, 0.+0.j, 0.+0.j],\n",
       "         [0.+0.j, 0.+0.j, 0.+0.j],\n",
       "         [0.+0.j, 0.+0.j, 0.+0.j]],\n",
       " \n",
       "        [[0.+0.j, 0.+0.j, 0.+0.j],\n",
       "         [0.+0.j, 0.+0.j, 0.+0.j],\n",
       "         [0.+0.j, 0.+0.j, 0.+0.j],\n",
       "         [0.+0.j, 0.+0.j, 0.+0.j],\n",
       "         [0.+0.j, 0.+0.j, 0.+0.j],\n",
       "         [0.+0.j, 0.+0.j, 0.+0.j]]]))"
      ]
     },
     "execution_count": 8,
     "metadata": {},
     "output_type": "execute_result"
    }
   ],
   "source": [
    "# create some uniform arrays\n",
    "c = np.zeros((9,9))\n",
    "d = np.ones((3,6,3), dtype=np.complex128)\n",
    "e = np.full((3,3), np.pi)\n",
    "f = np.ones_like(c)\n",
    "g = np.zeros_like(d)\n",
    "\n",
    "c,d,e,f,g"
   ]
  },
  {
   "cell_type": "markdown",
   "metadata": {},
   "source": [
    "Last week we practiced with `range(start, stop, step)` which gave us a range of number from start to stop (excluding stop itself). In this command you can only use integers. NumPy has different commands to make ranges:\n",
    "\n",
    "- `np.arange(start, stop, step)` = here `start, stop, step` can be floats, or complex numbers or ... And again, stop itself will not be part of the range (left inclusive, right exclusive)\n",
    "- `np.linspace(start, stop, number)` = linearly space range of `number` steps, note the difference with `np.arange`\n",
    "- `np.logspace(start, stop, number)` = same, but now the numbers will be evenly spaced on a logscale, so if you print this array, start wil be `base**start` and stop will be `base**stop`, by default the base is 10, but you change this"
   ]
  },
  {
   "cell_type": "code",
   "execution_count": 9,
   "metadata": {},
   "outputs": [
    {
     "data": {
      "text/plain": [
       "(array([0.2+3.j, 1.2+3.j, 2.2+3.j, 3.2+3.j, 4.2+3.j, 5.2+3.j, 6.2+3.j]),\n",
       " array([2.  , 2.25, 2.5 , 2.75, 3.  , 3.25, 3.5 , 3.75]),\n",
       " array([2.        , 2.28571429, 2.57142857, 2.85714286, 3.14285714,\n",
       "        3.42857143, 3.71428571, 4.        ]),\n",
       " array([ 10.        ,  12.91549665,  16.68100537,  21.5443469 ,\n",
       "         27.82559402,  35.93813664,  46.41588834,  59.94842503,\n",
       "         77.42636827, 100.        ]))"
      ]
     },
     "execution_count": 9,
     "metadata": {},
     "output_type": "execute_result"
    }
   ],
   "source": [
    "a=np.arange(0.2+3j,8.3+9.1j)\n",
    "b=np.arange(2,4,0.25)\n",
    "c=np.linspace(2,4,8)\n",
    "d=np.logspace(1,2,10)\n",
    "\n",
    "a,b,c,d"
   ]
  },
  {
   "cell_type": "markdown",
   "metadata": {},
   "source": [
    "You can also create grids using the command `np.meshgrid`. This is very convenient for plotting, for example to plot a certain value over range of coordinates. We will use this later when we move to Matplotlib!"
   ]
  },
  {
   "cell_type": "code",
   "execution_count": 10,
   "metadata": {},
   "outputs": [
    {
     "data": {
      "text/plain": [
       "((5, 10), (5, 10))"
      ]
     },
     "execution_count": 10,
     "metadata": {},
     "output_type": "execute_result"
    }
   ],
   "source": [
    "# two dimensional grids\n",
    "x = np.linspace(-2*np.pi, 2*np.pi, 10)\n",
    "y = np.linspace(-np.pi, np.pi, 5)\n",
    "xx, yy = np.meshgrid(x, y)\n",
    "xx.shape, yy.shape"
   ]
  },
  {
   "cell_type": "markdown",
   "metadata": {},
   "source": [
    "### Indexing\n",
    "The indexing is similar to lists (so zero-based indexing), but you have to be aware of the dimensions of you arrays. For example:"
   ]
  },
  {
   "cell_type": "code",
   "execution_count": 11,
   "metadata": {},
   "outputs": [
    {
     "data": {
      "text/plain": [
       "array([[-6.28318531, -4.88692191, -3.4906585 , -2.0943951 , -0.6981317 ,\n",
       "         0.6981317 ,  2.0943951 ,  3.4906585 ,  4.88692191,  6.28318531],\n",
       "       [-6.28318531, -4.88692191, -3.4906585 , -2.0943951 , -0.6981317 ,\n",
       "         0.6981317 ,  2.0943951 ,  3.4906585 ,  4.88692191,  6.28318531],\n",
       "       [-6.28318531, -4.88692191, -3.4906585 , -2.0943951 , -0.6981317 ,\n",
       "         0.6981317 ,  2.0943951 ,  3.4906585 ,  4.88692191,  6.28318531],\n",
       "       [-6.28318531, -4.88692191, -3.4906585 , -2.0943951 , -0.6981317 ,\n",
       "         0.6981317 ,  2.0943951 ,  3.4906585 ,  4.88692191,  6.28318531],\n",
       "       [-6.28318531, -4.88692191, -3.4906585 , -2.0943951 , -0.6981317 ,\n",
       "         0.6981317 ,  2.0943951 ,  3.4906585 ,  4.88692191,  6.28318531]])"
      ]
     },
     "execution_count": 11,
     "metadata": {},
     "output_type": "execute_result"
    }
   ],
   "source": [
    "xx # output from np.meshgrid"
   ]
  },
  {
   "cell_type": "code",
   "execution_count": 12,
   "metadata": {},
   "outputs": [
    {
     "data": {
      "text/plain": [
       "(-6.283185307179586, 6.283185307179586, 0.6981317007977319)"
      ]
     },
     "execution_count": 12,
     "metadata": {},
     "output_type": "execute_result"
    }
   ],
   "source": [
    "# get some individual elements of xx\n",
    "xx[0,0], xx[-1,-1], xx[3,-5]"
   ]
  },
  {
   "cell_type": "markdown",
   "metadata": {},
   "source": [
    "If you want to use the whole column or row, you use `:`, for example the firt row is  `xx[0,:]` . The colon is also used to indicate ranges, for example `xx[x1:x2,y1:y2]`. Keep in mind that this is left inclusive, right exclusive, so `x2` and `y2` will not be part of the selected area."
   ]
  },
  {
   "cell_type": "code",
   "execution_count": 13,
   "metadata": {},
   "outputs": [
    {
     "data": {
      "text/plain": [
       "((10,), (5,))"
      ]
     },
     "execution_count": 13,
     "metadata": {},
     "output_type": "execute_result"
    }
   ],
   "source": [
    "# get some whole rows and columns\n",
    "xx[0,:].shape, xx[:,-1].shape"
   ]
  },
  {
   "cell_type": "code",
   "execution_count": 14,
   "metadata": {},
   "outputs": [
    {
     "data": {
      "text/plain": [
       "array([6.28318531, 6.28318531, 6.28318531, 6.28318531, 6.28318531])"
      ]
     },
     "execution_count": 14,
     "metadata": {},
     "output_type": "execute_result"
    }
   ],
   "source": [
    "xx[:,-1] "
   ]
  },
  {
   "cell_type": "code",
   "execution_count": 15,
   "metadata": {},
   "outputs": [
    {
     "name": "stdout",
     "output_type": "stream",
     "text": [
      "(3, 1)\n"
     ]
    },
    {
     "data": {
      "text/plain": [
       "array([[-2.0943951],\n",
       "       [-2.0943951],\n",
       "       [-2.0943951]])"
      ]
     },
     "execution_count": 15,
     "metadata": {},
     "output_type": "execute_result"
    }
   ],
   "source": [
    "# get some ranges, this is again left-inclusive, right-exclusive\n",
    "print(xx[2:5,3:4].shape)\n",
    "xx[2:5,3:4]"
   ]
  },
  {
   "cell_type": "markdown",
   "metadata": {},
   "source": [
    "There are many many advanced ways to index arrays. You can read about them in the manual. Here is one example of a boolean array (= an array of values `True` and `False`, based on the argument `xx<0`)):"
   ]
  },
  {
   "cell_type": "code",
   "execution_count": 16,
   "metadata": {},
   "outputs": [
    {
     "data": {
      "text/plain": [
       "array([[ True,  True,  True,  True,  True, False, False, False, False,\n",
       "        False],\n",
       "       [ True,  True,  True,  True,  True, False, False, False, False,\n",
       "        False],\n",
       "       [ True,  True,  True,  True,  True, False, False, False, False,\n",
       "        False],\n",
       "       [ True,  True,  True,  True,  True, False, False, False, False,\n",
       "        False],\n",
       "       [ True,  True,  True,  True,  True, False, False, False, False,\n",
       "        False]])"
      ]
     },
     "execution_count": 16,
     "metadata": {},
     "output_type": "execute_result"
    }
   ],
   "source": [
    "# use a boolean array as an index\n",
    "idx = xx<0\n",
    "yy[idx]\n",
    "idx"
   ]
  },
  {
   "cell_type": "markdown",
   "metadata": {},
   "source": [
    "Sometimes it is necessary to flatten an array, you can do this with the command `ravel`. This is just one example that may be useful later (you don't have to remember all of these commands)."
   ]
  },
  {
   "cell_type": "code",
   "execution_count": 17,
   "metadata": {},
   "outputs": [
    {
     "name": "stdout",
     "output_type": "stream",
     "text": [
      "(5, 10)\n",
      "(50,)\n"
     ]
    }
   ],
   "source": [
    "# the array got flattened\n",
    "print(xx.shape)\n",
    "print(xx.ravel().shape)"
   ]
  },
  {
   "cell_type": "code",
   "execution_count": 18,
   "metadata": {},
   "outputs": [
    {
     "name": "stdout",
     "output_type": "stream",
     "text": [
      "Help on function ravel in module numpy:\n",
      "\n",
      "ravel(a, order='C')\n",
      "    Return a contiguous flattened array.\n",
      "    \n",
      "    A 1-D array, containing the elements of the input, is returned.  A copy is\n",
      "    made only if needed.\n",
      "    \n",
      "    As of NumPy 1.10, the returned array will have the same type as the input\n",
      "    array. (for example, a masked array will be returned for a masked array\n",
      "    input)\n",
      "    \n",
      "    Parameters\n",
      "    ----------\n",
      "    a : array_like\n",
      "        Input array.  The elements in `a` are read in the order specified by\n",
      "        `order`, and packed as a 1-D array.\n",
      "    order : {'C','F', 'A', 'K'}, optional\n",
      "    \n",
      "        The elements of `a` are read using this index order. 'C' means\n",
      "        to index the elements in row-major, C-style order,\n",
      "        with the last axis index changing fastest, back to the first\n",
      "        axis index changing slowest.  'F' means to index the elements\n",
      "        in column-major, Fortran-style order, with the\n",
      "        first index changing fastest, and the last index changing\n",
      "        slowest. Note that the 'C' and 'F' options take no account of\n",
      "        the memory layout of the underlying array, and only refer to\n",
      "        the order of axis indexing.  'A' means to read the elements in\n",
      "        Fortran-like index order if `a` is Fortran *contiguous* in\n",
      "        memory, C-like order otherwise.  'K' means to read the\n",
      "        elements in the order they occur in memory, except for\n",
      "        reversing the data when strides are negative.  By default, 'C'\n",
      "        index order is used.\n",
      "    \n",
      "    Returns\n",
      "    -------\n",
      "    y : array_like\n",
      "        y is an array of the same subtype as `a`, with shape ``(a.size,)``.\n",
      "        Note that matrices are special cased for backward compatibility, if `a`\n",
      "        is a matrix, then y is a 1-D ndarray.\n",
      "    \n",
      "    See Also\n",
      "    --------\n",
      "    ndarray.flat : 1-D iterator over an array.\n",
      "    ndarray.flatten : 1-D array copy of the elements of an array\n",
      "                      in row-major order.\n",
      "    ndarray.reshape : Change the shape of an array without changing its data.\n",
      "    \n",
      "    Notes\n",
      "    -----\n",
      "    In row-major, C-style order, in two dimensions, the row index\n",
      "    varies the slowest, and the column index the quickest.  This can\n",
      "    be generalized to multiple dimensions, where row-major order\n",
      "    implies that the index along the first axis varies slowest, and\n",
      "    the index along the last quickest.  The opposite holds for\n",
      "    column-major, Fortran-style index ordering.\n",
      "    \n",
      "    When a view is desired in as many cases as possible, ``arr.reshape(-1)``\n",
      "    may be preferable.\n",
      "    \n",
      "    Examples\n",
      "    --------\n",
      "    It is equivalent to ``reshape(-1, order=order)``.\n",
      "    \n",
      "    >>> x = np.array([[1, 2, 3], [4, 5, 6]])\n",
      "    >>> np.ravel(x)\n",
      "    array([1, 2, 3, 4, 5, 6])\n",
      "    \n",
      "    >>> x.reshape(-1)\n",
      "    array([1, 2, 3, 4, 5, 6])\n",
      "    \n",
      "    >>> np.ravel(x, order='F')\n",
      "    array([1, 4, 2, 5, 3, 6])\n",
      "    \n",
      "    When ``order`` is 'A', it will preserve the array's 'C' or 'F' ordering:\n",
      "    \n",
      "    >>> np.ravel(x.T)\n",
      "    array([1, 4, 2, 5, 3, 6])\n",
      "    >>> np.ravel(x.T, order='A')\n",
      "    array([1, 2, 3, 4, 5, 6])\n",
      "    \n",
      "    When ``order`` is 'K', it will preserve orderings that are neither 'C'\n",
      "    nor 'F', but won't reverse axes:\n",
      "    \n",
      "    >>> a = np.arange(3)[::-1]; a\n",
      "    array([2, 1, 0])\n",
      "    >>> a.ravel(order='C')\n",
      "    array([2, 1, 0])\n",
      "    >>> a.ravel(order='K')\n",
      "    array([2, 1, 0])\n",
      "    \n",
      "    >>> a = np.arange(12).reshape(2,3,2).swapaxes(1,2); a\n",
      "    array([[[ 0,  2,  4],\n",
      "            [ 1,  3,  5]],\n",
      "           [[ 6,  8, 10],\n",
      "            [ 7,  9, 11]]])\n",
      "    >>> a.ravel(order='C')\n",
      "    array([ 0,  2,  4,  1,  3,  5,  6,  8, 10,  7,  9, 11])\n",
      "    >>> a.ravel(order='K')\n",
      "    array([ 0,  1,  2,  3,  4,  5,  6,  7,  8,  9, 10, 11])\n",
      "\n"
     ]
    }
   ],
   "source": [
    "# again, you can always check out the doc string of a function\n",
    "# to see what it does\n",
    "help(np.ravel)"
   ]
  },
  {
   "cell_type": "markdown",
   "metadata": {},
   "source": [
    "## Basic math\n",
    "The basic Python library is not so big, but NumPy contains a lot of important mathematical functions. There are a huge number of operations available on arrays. All the familiar arithmetic operators are applied on an element-by-element basis. We will discuss a few of them here, these you will probably use a lot, but there is of course a lot more than just this!\n",
    "\n"
   ]
  },
  {
   "cell_type": "code",
   "execution_count": 19,
   "metadata": {},
   "outputs": [
    {
     "data": {
      "text/plain": [
       "2.302585092994046"
      ]
     },
     "execution_count": 19,
     "metadata": {},
     "output_type": "execute_result"
    }
   ],
   "source": [
    "np.log(10) # natural logarithm"
   ]
  },
  {
   "cell_type": "code",
   "execution_count": 20,
   "metadata": {},
   "outputs": [
    {
     "data": {
      "text/plain": [
       "array([0., 1., 2.])"
      ]
     },
     "execution_count": 20,
     "metadata": {},
     "output_type": "execute_result"
    }
   ],
   "source": [
    "np.log10([1,10,100]) # 10-based logarithm "
   ]
  },
  {
   "cell_type": "code",
   "execution_count": 21,
   "metadata": {},
   "outputs": [
    {
     "data": {
      "text/plain": [
       "array([[ 1.49975978e-32,  6.03020831e-17,  2.09426937e-17,\n",
       "        -5.30287619e-17, -3.93593894e-17,  3.93593894e-17,\n",
       "         5.30287619e-17, -2.09426937e-17, -6.03020831e-17,\n",
       "        -1.49975978e-32],\n",
       "       [ 1.73191211e-16,  6.96364240e-01,  2.41844763e-01,\n",
       "        -6.12372436e-01, -4.54519478e-01,  4.54519478e-01,\n",
       "         6.12372436e-01, -2.41844763e-01, -6.96364240e-01,\n",
       "        -1.73191211e-16],\n",
       "       [ 2.44929360e-16,  9.84807753e-01,  3.42020143e-01,\n",
       "        -8.66025404e-01, -6.42787610e-01,  6.42787610e-01,\n",
       "         8.66025404e-01, -3.42020143e-01, -9.84807753e-01,\n",
       "        -2.44929360e-16],\n",
       "       [ 1.73191211e-16,  6.96364240e-01,  2.41844763e-01,\n",
       "        -6.12372436e-01, -4.54519478e-01,  4.54519478e-01,\n",
       "         6.12372436e-01, -2.41844763e-01, -6.96364240e-01,\n",
       "        -1.73191211e-16],\n",
       "       [ 1.49975978e-32,  6.03020831e-17,  2.09426937e-17,\n",
       "        -5.30287619e-17, -3.93593894e-17,  3.93593894e-17,\n",
       "         5.30287619e-17, -2.09426937e-17, -6.03020831e-17,\n",
       "        -1.49975978e-32]])"
      ]
     },
     "execution_count": 21,
     "metadata": {},
     "output_type": "execute_result"
    }
   ],
   "source": [
    "f = np.sin(xx) * np.cos(0.5*yy) # sine and cosine\n",
    "f"
   ]
  },
  {
   "cell_type": "code",
   "execution_count": 22,
   "metadata": {},
   "outputs": [
    {
     "data": {
      "text/plain": [
       "2.718281828459045"
      ]
     },
     "execution_count": 22,
     "metadata": {},
     "output_type": "execute_result"
    }
   ],
   "source": [
    "np.exp(1) # the number e"
   ]
  },
  {
   "cell_type": "code",
   "execution_count": 23,
   "metadata": {},
   "outputs": [
    {
     "data": {
      "text/plain": [
       "3.141592653589793"
      ]
     },
     "execution_count": 23,
     "metadata": {},
     "output_type": "execute_result"
    }
   ],
   "source": [
    "np.pi # the number pi"
   ]
  },
  {
   "cell_type": "markdown",
   "metadata": {},
   "source": [
    "## Broadcasting ##\n",
    "\n",
    "__Broadcasting__ = how NumPy treats arrays with different shapes during arithmetic operations  (part (e) in the NumPy figure above). It \"broadcasts\" smaller arrays across the larger arrays so they have compatible shapes to do computations; an example of this is shown in the figure below. You can do matrix operations by vectorizing array operations instead of using `for`-`while`-`if`-loops. These loops use a lot of data/memory and using broadcasting can make your code a lot faster and more efficient. It is very similar to doing operations to matrices, such as multiplication.\n",
    "\n",
    "<img src=\"http://scipy-lectures.github.io/_images/numpy_broadcasting.png\" width=\"600\">\n",
    "\n",
    "Usually, NumPy operations are done on pairs of arrays on an element-by-element basis.  So, when operating on two arrays, NumPy compares their shapes element-wise. It starts with the trailing (i.e. rightmost) dimensions and works its way left. Two dimensions are compatible when\n",
    "\n",
    "- they are equal, or\n",
    "\n",
    "- one of them is 1\n",
    "\n",
    "If these conditions are not met, `a ValueError: operands could not be broadcast together` exception is thrown, indicating that the arrays have incompatible shapes. \n",
    "\n",
    "Some examples of broadcasting are given below:"
   ]
  },
  {
   "cell_type": "code",
   "execution_count": 24,
   "metadata": {},
   "outputs": [
    {
     "name": "stdout",
     "output_type": "stream",
     "text": [
      "(5, 10) (10,)\n",
      "(5, 10)\n"
     ]
    }
   ],
   "source": [
    "# add f and x  (this is the second row example in the figure above)\n",
    "print(f.shape, x.shape)\n",
    "d = f + x\n",
    "print(d.shape)"
   ]
  },
  {
   "cell_type": "code",
   "execution_count": 25,
   "metadata": {},
   "outputs": [
    {
     "name": "stdout",
     "output_type": "stream",
     "text": [
      "(5, 10) (10,)\n",
      "(5, 10)\n"
     ]
    }
   ],
   "source": [
    "# multiply f by x\n",
    "print(f.shape, x.shape)\n",
    "g = f * x\n",
    "print(g.shape)"
   ]
  },
  {
   "cell_type": "code",
   "execution_count": 26,
   "metadata": {},
   "outputs": [
    {
     "name": "stdout",
     "output_type": "stream",
     "text": [
      "(5, 10) (5,)\n"
     ]
    },
    {
     "ename": "ValueError",
     "evalue": "operands could not be broadcast together with shapes (5,10) (5,) ",
     "output_type": "error",
     "traceback": [
      "\u001b[0;31m---------------------------------------------------------------------------\u001b[0m",
      "\u001b[0;31mValueError\u001b[0m                                Traceback (most recent call last)",
      "\u001b[0;32m<ipython-input-26-664308bc1e7c>\u001b[0m in \u001b[0;36m<module>\u001b[0;34m\u001b[0m\n\u001b[1;32m      2\u001b[0m \u001b[0;31m# why does this not work?\u001b[0m\u001b[0;34m\u001b[0m\u001b[0;34m\u001b[0m\u001b[0;34m\u001b[0m\u001b[0m\n\u001b[1;32m      3\u001b[0m \u001b[0mprint\u001b[0m\u001b[0;34m(\u001b[0m\u001b[0mf\u001b[0m\u001b[0;34m.\u001b[0m\u001b[0mshape\u001b[0m\u001b[0;34m,\u001b[0m \u001b[0my\u001b[0m\u001b[0;34m.\u001b[0m\u001b[0mshape\u001b[0m\u001b[0;34m)\u001b[0m\u001b[0;34m\u001b[0m\u001b[0;34m\u001b[0m\u001b[0m\n\u001b[0;32m----> 4\u001b[0;31m \u001b[0mh\u001b[0m \u001b[0;34m=\u001b[0m \u001b[0mf\u001b[0m \u001b[0;34m*\u001b[0m \u001b[0my\u001b[0m\u001b[0;34m\u001b[0m\u001b[0;34m\u001b[0m\u001b[0m\n\u001b[0m\u001b[1;32m      5\u001b[0m \u001b[0mprint\u001b[0m\u001b[0;34m(\u001b[0m\u001b[0mh\u001b[0m\u001b[0;34m.\u001b[0m\u001b[0mshape\u001b[0m\u001b[0;34m)\u001b[0m\u001b[0;34m\u001b[0m\u001b[0;34m\u001b[0m\u001b[0m\n",
      "\u001b[0;31mValueError\u001b[0m: operands could not be broadcast together with shapes (5,10) (5,) "
     ]
    }
   ],
   "source": [
    "# multiply f by y\n",
    "# why does this not work?\n",
    "print(f.shape, y.shape)\n",
    "h = f * y\n",
    "print(h.shape)"
   ]
  },
  {
   "cell_type": "code",
   "execution_count": 27,
   "metadata": {},
   "outputs": [
    {
     "name": "stdout",
     "output_type": "stream",
     "text": [
      "(5, 10) (5,)\n",
      "(10, 5)\n"
     ]
    }
   ],
   "source": [
    "# multiply f by y\n",
    "# why does this work?\n",
    "print(f.shape, y.shape)\n",
    "h = np.transpose(f) * y\n",
    "print(h.shape)"
   ]
  },
  {
   "cell_type": "markdown",
   "metadata": {},
   "source": [
    "To show you that these kinds of vectorized computations are indeed faster than loops, we will compare the same computation with a loop. With the command `%timeit`, Python tells you how long this computation takes."
   ]
  },
  {
   "cell_type": "code",
   "execution_count": 28,
   "metadata": {},
   "outputs": [],
   "source": [
    "# Vectorized\n",
    "def sum_vect(a,b):\n",
    "    c = a + b\n",
    "    return c\n",
    "\n",
    "# Double for-loop\n",
    "def sum_loop(a,b):\n",
    "    c = np.zeros(a.shape)\n",
    "    for i in range(len(a[:,0])-1):\n",
    "        for j in range(len(a[0,:])-1):\n",
    "            c[i,j] = a[i,j]+b[i]\n",
    "    return c"
   ]
  },
  {
   "cell_type": "code",
   "execution_count": 29,
   "metadata": {},
   "outputs": [
    {
     "name": "stdout",
     "output_type": "stream",
     "text": [
      "20.3 µs ± 655 ns per loop (mean ± std. dev. of 7 runs, 10000 loops each)\n"
     ]
    }
   ],
   "source": [
    "# run-time of the for-loop\n",
    "d_comp = sum_loop(f,x)\n",
    "\n",
    "%timeit sum_loop(f,x)"
   ]
  },
  {
   "cell_type": "code",
   "execution_count": 30,
   "metadata": {},
   "outputs": [
    {
     "name": "stdout",
     "output_type": "stream",
     "text": [
      "1.37 µs ± 11.2 ns per loop (mean ± std. dev. of 7 runs, 1000000 loops each)\n"
     ]
    }
   ],
   "source": [
    "# run-time of the vectorized\n",
    "%timeit sum_vect(f,x)"
   ]
  },
  {
   "cell_type": "code",
   "execution_count": 31,
   "metadata": {},
   "outputs": [
    {
     "name": "stdout",
     "output_type": "stream",
     "text": [
      "CPU times: user 21 µs, sys: 1 µs, total: 22 µs\n",
      "Wall time: 25 µs\n"
     ]
    }
   ],
   "source": [
    "%%time\n",
    "\n",
    "dus = np.sin(2*np.pi)\n",
    "# another useful (cell)magic command is `%%time` \n",
    "# on an otherwise empty first line\n",
    "# to time the execution of a cell"
   ]
  },
  {
   "cell_type": "markdown",
   "metadata": {},
   "source": [
    "## Reduction Operation\n",
    "These operation collapse one or more dimensions by performing an operation, for example, summing over an axis or even all axes.\n",
    "(part _f_ of the array operations figure above)\n",
    "If the array has multiple dimensions, you can choose over which dimension to perform the operation."
   ]
  },
  {
   "cell_type": "code",
   "execution_count": 32,
   "metadata": {},
   "outputs": [
    {
     "data": {
      "text/plain": [
       "array([[-9.42326863e-32, -2.94691571e-16, -7.31037918e-17,\n",
       "         1.11063179e-16,  2.74780375e-17,  2.74780375e-17,\n",
       "         1.11063179e-16, -7.31037918e-17, -2.94691571e-16,\n",
       "        -9.42326863e-32],\n",
       "       [-1.08819247e-15, -3.40307766e+00, -8.44197477e-01,\n",
       "         1.28254983e+00,  3.17314456e-01,  3.17314456e-01,\n",
       "         1.28254983e+00, -8.44197477e-01, -3.40307766e+00,\n",
       "        -1.08819247e-15],\n",
       "       [-1.53893655e-15, -4.81267858e+00, -1.19387552e+00,\n",
       "         1.81379936e+00,  4.48750407e-01,  4.48750407e-01,\n",
       "         1.81379936e+00, -1.19387552e+00, -4.81267858e+00,\n",
       "        -1.53893655e-15],\n",
       "       [-1.08819247e-15, -3.40307766e+00, -8.44197477e-01,\n",
       "         1.28254983e+00,  3.17314456e-01,  3.17314456e-01,\n",
       "         1.28254983e+00, -8.44197477e-01, -3.40307766e+00,\n",
       "        -1.08819247e-15],\n",
       "       [-9.42326863e-32, -2.94691571e-16, -7.31037918e-17,\n",
       "         1.11063179e-16,  2.74780375e-17,  2.74780375e-17,\n",
       "         1.11063179e-16, -7.31037918e-17, -2.94691571e-16,\n",
       "        -9.42326863e-32]])"
      ]
     },
     "execution_count": 32,
     "metadata": {},
     "output_type": "execute_result"
    }
   ],
   "source": [
    "g"
   ]
  },
  {
   "cell_type": "code",
   "execution_count": 33,
   "metadata": {},
   "outputs": [
    {
     "data": {
      "text/plain": [
       "(5, 10)"
      ]
     },
     "execution_count": 33,
     "metadata": {},
     "output_type": "execute_result"
    }
   ],
   "source": [
    "# shape\n",
    "g.shape"
   ]
  },
  {
   "cell_type": "code",
   "execution_count": 34,
   "metadata": {},
   "outputs": [
    {
     "data": {
      "text/plain": [
       "-18.077652068817933"
      ]
     },
     "execution_count": 34,
     "metadata": {},
     "output_type": "execute_result"
    }
   ],
   "source": [
    "# sum\n",
    "g.sum()"
   ]
  },
  {
   "cell_type": "code",
   "execution_count": 35,
   "metadata": {},
   "outputs": [
    {
     "data": {
      "text/plain": [
       "-0.3615530413763587"
      ]
     },
     "execution_count": 35,
     "metadata": {},
     "output_type": "execute_result"
    }
   ],
   "source": [
    "# mean\n",
    "g.mean()"
   ]
  },
  {
   "cell_type": "code",
   "execution_count": 36,
   "metadata": {},
   "outputs": [
    {
     "data": {
      "text/plain": [
       "1.4544951406053706"
      ]
     },
     "execution_count": 36,
     "metadata": {},
     "output_type": "execute_result"
    }
   ],
   "source": [
    "# standard deviation\n",
    "g.std()"
   ]
  },
  {
   "cell_type": "code",
   "execution_count": 37,
   "metadata": {},
   "outputs": [
    {
     "data": {
      "text/plain": [
       "1.813799364234218"
      ]
     },
     "execution_count": 37,
     "metadata": {},
     "output_type": "execute_result"
    }
   ],
   "source": [
    "# max\n",
    "g.max()"
   ]
  },
  {
   "cell_type": "code",
   "execution_count": 38,
   "metadata": {},
   "outputs": [
    {
     "data": {
      "text/plain": [
       "-4.812678580984438"
      ]
     },
     "execution_count": 38,
     "metadata": {},
     "output_type": "execute_result"
    }
   ],
   "source": [
    "# min\n",
    "g.min()"
   ]
  },
  {
   "cell_type": "code",
   "execution_count": 40,
   "metadata": {},
   "outputs": [
    {
     "data": {
      "text/plain": [
       "(array([-7.43064301e-16, -2.32376678e+00, -5.76454095e-01,  8.75779805e-01,\n",
       "         2.16675864e-01,  2.16675864e-01,  8.75779805e-01, -5.76454095e-01,\n",
       "        -2.32376678e+00, -7.43064301e-16]),\n",
       " array([-4.58508292e-17, -5.29482170e-01, -7.48800866e-01, -5.29482170e-01,\n",
       "        -4.58508292e-17]))"
      ]
     },
     "execution_count": 40,
     "metadata": {},
     "output_type": "execute_result"
    }
   ],
   "source": [
    "# apply on just one axis\n",
    "g_ymean = g.mean(axis=0)\n",
    "g_xmean = g.mean(axis=1)\n",
    "g_ymean, g_xmean"
   ]
  },
  {
   "cell_type": "markdown",
   "metadata": {},
   "source": [
    "## <span style=\"color:blue\">Exercises</span>\n",
    "1. Write a NumPy program to create an array of 10 zeros, 10 ones, 10 fives. Subsequently create a 3x10 array from them. Ultimately compute the sum column-wise (over axis 0)."
   ]
  },
  {
   "cell_type": "code",
   "execution_count": null,
   "metadata": {},
   "outputs": [],
   "source": []
  },
  {
   "cell_type": "markdown",
   "metadata": {},
   "source": [
    "2. Create an array of length `N=12` equally spaced between -5 and (including) 3, then compute the square of these values. "
   ]
  },
  {
   "cell_type": "code",
   "execution_count": null,
   "metadata": {},
   "outputs": [],
   "source": []
  },
  {
   "cell_type": "markdown",
   "metadata": {},
   "source": [
    "3. Create a 2D grid of longitudes $\\lambda\\in[0^\\circ,360^\\circ]$ and latitudes $\\varphi\\in[-90^\\circ,90^\\circ]$ every $30^\\circ$. Then calculate $\\sin(30^\\circ)$ and $\\cos(\\pi)$, i.e. find out how to use degrees and radians with numpy functions."
   ]
  },
  {
   "cell_type": "code",
   "execution_count": null,
   "metadata": {},
   "outputs": [],
   "source": []
  },
  {
   "cell_type": "markdown",
   "metadata": {},
   "source": [
    "4. Create an array of `N=500` samples of the Normal distribution of mean=3, standard deviation=2. Determine the mean and standard deviation with numpy functions."
   ]
  },
  {
   "cell_type": "code",
   "execution_count": null,
   "metadata": {},
   "outputs": [],
   "source": []
  },
  {
   "cell_type": "markdown",
   "metadata": {},
   "source": [
    "5. _Hard:_ Compute an approximation to $\\pi$ using Monte Carlo sampling. Use only the `numpy.random.uniform()` function. These hints may help:\n",
    "- The area of a circle is $area = \\pi \\times radius^2$\n",
    "- Sample the unit square $(0,1)\\times(0,1)$ with $N$ uniformly in $x$ and $y$ distributed points."
   ]
  },
  {
   "cell_type": "code",
   "execution_count": null,
   "metadata": {},
   "outputs": [],
   "source": []
  },
  {
   "cell_type": "markdown",
   "metadata": {},
   "source": [
    "## <span style=\"color:green\">(possible) Solutions</span>"
   ]
  },
  {
   "cell_type": "code",
   "execution_count": 41,
   "metadata": {},
   "outputs": [
    {
     "name": "stdout",
     "output_type": "stream",
     "text": [
      "(3, 10)\n",
      "[[0. 0. 0. 0. 0. 0. 0. 0. 0. 0.]\n",
      " [1. 1. 1. 1. 1. 1. 1. 1. 1. 1.]\n",
      " [5. 5. 5. 5. 5. 5. 5. 5. 5. 5.]]\n"
     ]
    },
    {
     "data": {
      "text/plain": [
       "array([6., 6., 6., 6., 6., 6., 6., 6., 6., 6.])"
      ]
     },
     "execution_count": 41,
     "metadata": {},
     "output_type": "execute_result"
    }
   ],
   "source": [
    "# 1. Write a NumPy program to create an array of 10 zeros, 10 ones, 10 fives.\n",
    "# Subsequently create a 3x10 array from them.\n",
    "# Ultimately compute the sum column-wise (over axis 0).\n",
    "x_0 = np.zeros(10)\n",
    "x_1 = np.ones(10)\n",
    "x_5 = x_1*5\n",
    "\n",
    "combined = np.array([x_0,x_1,x_5])\n",
    "print(combined.shape)\n",
    "print(combined)\n",
    "sum_column = combined.sum(axis=0)\n",
    "sum_column"
   ]
  },
  {
   "cell_type": "code",
   "execution_count": 42,
   "metadata": {},
   "outputs": [
    {
     "data": {
      "text/plain": [
       "array([2.50000000e+01, 1.82561983e+01, 1.25702479e+01, 7.94214876e+00,\n",
       "       4.37190083e+00, 1.85950413e+00, 4.04958678e-01, 8.26446281e-03,\n",
       "       6.69421488e-01, 2.38842975e+00, 5.16528926e+00, 9.00000000e+00])"
      ]
     },
     "execution_count": 42,
     "metadata": {},
     "output_type": "execute_result"
    }
   ],
   "source": [
    "# 2. Create an array of length N=12 equally spaced between -5 and (including) 3, \n",
    "# then compute the square of these values. \n",
    "\n",
    "y_array = np.linspace(-5,3,12)\n",
    "y_square = y_array**2\n",
    "y_square"
   ]
  },
  {
   "cell_type": "code",
   "execution_count": 43,
   "metadata": {},
   "outputs": [
    {
     "name": "stdout",
     "output_type": "stream",
     "text": [
      "-0.9880316240928618\n",
      "0.49999999999999994\n",
      "0.49999999999999994\n",
      "-1.0\n"
     ]
    }
   ],
   "source": [
    "# 3. Create a 2D grid of longitudes lambda [0,360] deg and latitudes phi [-90,90] every 30 degrees.\n",
    "\n",
    "d_deg = 30 # stepsize\n",
    "lon = np.arange(0,361,d_deg)\n",
    "lat = np.arange(-90,91,d_deg)\n",
    "\n",
    "# Then calculate sin(30) and cos(pi), i.e. find out how to use degrees and radians with numpy functions.\n",
    "print(np.sin(30))              # this is wrong\n",
    "print(np.sin(np.deg2rad(30)))  # this is correct\n",
    "print(np.sin(30*np.pi/180))              # this is also correct\n",
    "# --> numpy trigonometric functions want radians, not degrees\n",
    "print(np.cos(np.pi))"
   ]
  },
  {
   "cell_type": "code",
   "execution_count": 44,
   "metadata": {},
   "outputs": [
    {
     "name": "stdout",
     "output_type": "stream",
     "text": [
      "N =    500, mean = 3.17, std = 2.0074264924287384\n",
      "N =   1200, mean = 3.05, std = 2.0479942278879704\n",
      "N = 100000, mean = 3.00, std = 1.998493491003647\n"
     ]
    }
   ],
   "source": [
    "# 4. Create an array of `N=[500,1200,1e5]` samples of the Normal\n",
    "# distribution of mean=3, standard deviation=2.\n",
    "# Determine the mean and standard deviation with numpy functions.\n",
    "\n",
    "for N in [500,1200,int(1e5)]:\n",
    "    D = np.random.normal(loc=3, scale=2, size=N)\n",
    "    print(f'N = {N:6d}, mean = {D.mean():.2f}, std = {D.std()}')\n",
    "    \n",
    "# again, the numbers and letters after the colon in the f-string \n",
    "# determine the output format"
   ]
  },
  {
   "cell_type": "code",
   "execution_count": null,
   "metadata": {},
   "outputs": [],
   "source": []
  }
 ],
 "metadata": {
  "kernelspec": {
   "display_name": "Python 3",
   "language": "python",
   "name": "python3"
  },
  "language_info": {
   "codemirror_mode": {
    "name": "ipython",
    "version": 3
   },
   "file_extension": ".py",
   "mimetype": "text/x-python",
   "name": "python",
   "nbconvert_exporter": "python",
   "pygments_lexer": "ipython3",
   "version": "3.7.3"
  }
 },
 "nbformat": 4,
 "nbformat_minor": 4
}
